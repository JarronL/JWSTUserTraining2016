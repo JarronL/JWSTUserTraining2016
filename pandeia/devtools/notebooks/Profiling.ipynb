{
 "cells": [
  {
   "cell_type": "code",
   "execution_count": 1,
   "metadata": {
    "collapsed": false
   },
   "outputs": [],
   "source": [
    "import os\n",
    "import sys\n",
    "import json\n",
    "import numpy as np\n",
    "import matplotlib\n",
    "matplotlib.use('nbagg')\n",
    "from matplotlib import style\n",
    "style.use('ggplot')\n",
    "import matplotlib.pyplot as plt\n",
    "from pandeia.engine.perform_calculation import perform_calculation\n",
    "from pandeia.engine.io_utils import read_json, write_json\n",
    "from pandeia.engine.etc3D import DetectorSignal\n",
    "from astropy.io import fits\n",
    "from copy import deepcopy\n",
    "%load_ext memory_profiler"
   ]
  },
  {
   "cell_type": "code",
   "execution_count": 2,
   "metadata": {
    "collapsed": true
   },
   "outputs": [],
   "source": [
    "test_file = \"/Users/pickering/STScI/smite/pandeia_test/tests/engine/jwst/instrument/niriss/defaults/soss/soss_gr700xd_nis_substrip256.jeng\"\n",
    "#test_file = \"/Users/pickering/STScI/smite/pandeia_test/tests/engine/jwst/instrument/nirspec/defaults/ifu/ifu_g395h_f290lp_nrsrapid_full_ifunodinscene.jeng\"\n",
    "test_file = \"/Users/pickering/STScI/smite/pandeia_test/tests/engine/jwst/common/source/spectral_lines/multiple_source_multiple_line.jeng\"\n",
    "calc_input = read_json(test_file)\n"
   ]
  },
  {
   "cell_type": "code",
   "execution_count": 3,
   "metadata": {
    "collapsed": false
   },
   "outputs": [
    {
     "name": "stderr",
     "output_type": "stream",
     "text": [
      "/Users/pickering/miniconda3/envs/py35/lib/python3.5/site-packages/numpy/core/_methods.py:26: VisibleDeprecationWarning: using a non-integer number instead of an integer will result in an error in the future\n",
      "  return umr_maximum(a, axis, None, out, keepdims)\n",
      "/Users/pickering/miniconda3/envs/py35/lib/python3.5/site-packages/numpy/core/numeric.py:190: VisibleDeprecationWarning: using a non-integer number instead of an integer will result in an error in the future\n",
      "  a = empty(shape, dtype, order)\n"
     ]
    },
    {
     "name": "stdout",
     "output_type": "stream",
     "text": [
      "peak memory: 272.95 MiB, increment: 168.06 MiB\n"
     ]
    }
   ],
   "source": [
    "%memit perform_calculation(calc_input, dict_report=False, webapp=True)"
   ]
  },
  {
   "cell_type": "code",
   "execution_count": 4,
   "metadata": {
    "collapsed": false
   },
   "outputs": [
    {
     "name": "stderr",
     "output_type": "stream",
     "text": [
      "/Users/pickering/miniconda3/envs/py35/lib/python3.5/site-packages/numpy/core/_methods.py:26: VisibleDeprecationWarning: using a non-integer number instead of an integer will result in an error in the future\n",
      "  return umr_maximum(a, axis, None, out, keepdims)\n",
      "/Users/pickering/miniconda3/envs/py35/lib/python3.5/site-packages/numpy/core/numeric.py:190: VisibleDeprecationWarning: using a non-integer number instead of an integer will result in an error in the future\n",
      "  a = empty(shape, dtype, order)\n"
     ]
    },
    {
     "name": "stdout",
     "output_type": "stream",
     "text": [
      "1 loop, best of 3: 12.2 s per loop\n"
     ]
    }
   ],
   "source": [
    "%timeit perform_calculation(calc_input, dict_report=False, webapp=True)"
   ]
  },
  {
   "cell_type": "code",
   "execution_count": null,
   "metadata": {
    "collapsed": true
   },
   "outputs": [],
   "source": []
  }
 ],
 "metadata": {
  "kernelspec": {
   "display_name": "Python 3",
   "language": "python",
   "name": "python3"
  },
  "language_info": {
   "codemirror_mode": {
    "name": "ipython",
    "version": 3
   },
   "file_extension": ".py",
   "mimetype": "text/x-python",
   "name": "python",
   "nbconvert_exporter": "python",
   "pygments_lexer": "ipython3",
   "version": "3.5.2"
  }
 },
 "nbformat": 4,
 "nbformat_minor": 0
}

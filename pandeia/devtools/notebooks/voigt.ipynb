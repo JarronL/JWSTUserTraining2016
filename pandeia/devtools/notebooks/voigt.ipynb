{
 "metadata": {
  "name": ""
 },
 "nbformat": 3,
 "nbformat_minor": 0,
 "worksheets": [
  {
   "cells": [
    {
     "cell_type": "code",
     "collapsed": false,
     "input": [
      "import numpy as np\n",
      "from scipy import special\n",
      "\n",
      "\n",
      "# analytic approximation for a voigt profile.\n",
      "def qvoigt(x, amp, pos, fwhm, gam):\n",
      "    \"\"\"\n",
      "    voigt profile\n",
      "\n",
      "    V(x,sig,gam) = Re(w(z))/(sig*sqrt(2*pi))\n",
      "    z = (x+i*gam)/(sig*sqrt(2))\n",
      "    \"\"\"\n",
      "\n",
      "    tmp = 1.0 / special.wofz(np.zeros(len(x)) + 1j * np.sqrt(np.log(2.0)) * gam).real\n",
      "    tmp = tmp * amp * special.wofz(2 * np.sqrt(np.log(2.0))*(x-pos)/fwhm + 1j * np.sqrt(np.log(2.0)) * gam).real\n",
      "    return tmp\n",
      "\n",
      "# test\n",
      "def voigt(x, amp, pos, fwhm, gamma):\n",
      "    \"\"\"\n",
      "    This function implements the Voigt profile:\n",
      "    \n",
      "    V(x, sigma, gamma) = Re[w(z)]/sigma*sqrt(2*pi)\n",
      "    \n",
      "    where Re[w(z)] is the real portion of the Faddeeva function evaluated for:\n",
      "    \n",
      "    z = (x + i*gamma)/sigma*sqrt(2)\n",
      "    \n",
      "    Note that w(z) = e^(-z^2) * erfc(-iz) so that the case of gamma = 0\n",
      "    equates to a pure Gaussian.  The case of sigma = 0 equates to a pure Lorentzian,\n",
      "    however we need to capture that case to avoid a divide-by-zero when evaluating z.\n",
      "    A pure Lorentzian profile is then described by:\n",
      "    \n",
      "    L(x, gamma) = gamma/(pi*(x^2 + gamma^2))\n",
      "    \n",
      "    Parameters\n",
      "    ----------\n",
      "    x : 1D ndarray\n",
      "        Set of wavelengths over which to calculate line profile\n",
      "    amp : float\n",
      "        Amplitude at line center\n",
      "    pos : float\n",
      "        Position of line center\n",
      "    fwhm : float\n",
      "        FWHM of the Gaussian component of the line profile\n",
      "    gamma : float\n",
      "        FWHM of the Lorenztian component of the line profile\n",
      "        \n",
      "    Returns\n",
      "    -------\n",
      "    profile : 1D ndarray\n",
      "        1D ndarray of length len(x) containing the calculated line profile\n",
      "    \"\"\"\n",
      "    # make these conversions so that fwhm is the gaussian fwhm and \n",
      "    # gamma is the lorentzian fwhm\n",
      "    fwhm2sigma = 2.0 * np.sqrt(2.0 * np.log(2.0))\n",
      "    sigma = fwhm / fwhm2sigma\n",
      "    if fwhm == 0.0:\n",
      "        # this is the case of a pure lorentzian profile\n",
      "        l = lambda x: 0.5 * gamma / (np.pi * (x**2 + (0.5 * gamma)**2))\n",
      "        profile = amp * l(x - pos) / l(np.zeros(len(x)))  # normalize so that amp is the peak amplitude\n",
      "    else:\n",
      "        # this is the case for a lorentzian/gaussian convolution (i.e. voigt) or pure gaussian (gamma = 0.0)\n",
      "        # need to scale gamma to match sigma\n",
      "        gamma /= fwhm2sigma\n",
      "        gamma /= np.sqrt(np.log(2.0))\n",
      "        z = lambda a: (a + 1j * gamma)/(sigma * np.sqrt(2.0))\n",
      "        v = lambda z: special.wofz(z).real/(sigma * np.sqrt(2.0 * np.pi))\n",
      "        profile = amp * v(z(x - pos)) / v(z(np.zeros(len(x))))  # normalize so that amp is the peak amplitude\n",
      "    return profile"
     ],
     "language": "python",
     "metadata": {},
     "outputs": [],
     "prompt_number": 131
    },
    {
     "cell_type": "code",
     "collapsed": false,
     "input": [
      "x = 0.1*(np.arange(105)-2)\n",
      "pos = 5\n",
      "plot(x, voigt(x, 2.0, pos, 0.0, 10.0))\n",
      "plot(x, voigt(x, 2.0, pos, 0.000001, 10.0))"
     ],
     "language": "python",
     "metadata": {},
     "outputs": [
      {
       "metadata": {},
       "output_type": "pyout",
       "prompt_number": 145,
       "text": [
        "[<matplotlib.lines.Line2D at 0x10cc55150>]"
       ]
      },
      {
       "metadata": {},
       "output_type": "display_data",
       "png": "[encoded data removed]",
       "text": [
        "<matplotlib.figure.Figure at 0x10cc8fc90>"
       ]
      }
     ],
     "prompt_number": 145
    },
    {
     "cell_type": "code",
     "collapsed": false,
     "input": [
      "l = voigt(x, 2.0, pos, 0.0000001, 10.0)\n",
      "l"
     ],
     "language": "python",
     "metadata": {},
     "outputs": [
      {
       "metadata": {},
       "output_type": "pyout",
       "prompt_number": 146,
       "text": [
        "array([ 0.98072101,  1.0001367 ,  1.01993669,  1.04012049,  1.06068666,\n",
        "        1.08163268,  1.10295484,  1.1246482 ,  1.14670639,  1.16912156,\n",
        "        1.19188425,  1.21498326,  1.23840554,  1.26213605,  1.28615765,\n",
        "        1.31045099,  1.33499435,  1.35976355,  1.38473186,  1.40986984,\n",
        "        1.43514531,  1.46052321,  1.48596561,  1.51143158,  1.53687722,\n",
        "        1.56225566,  1.58751705,  1.61260866,  1.63747493,  1.66205762,\n",
        "        1.68629599,  1.71012694,  1.73348536,  1.7563043 ,  1.77851539,\n",
        "        1.80004921,  1.82083564,  1.8408044 ,  1.85988547,  1.87800966,\n",
        "        1.89510914,  1.91111801,  1.92597284,  1.93961333,  1.9519828 ,\n",
        "        1.96302879,  1.97270361,  1.98096479,  1.98777558,  1.99310533,\n",
        "        1.99692982,  1.99923157,  2.        ,  1.99923157,  1.99692982,\n",
        "        1.99310533,  1.98777558,  1.98096479,  1.97270361,  1.96302879,\n",
        "        1.9519828 ,  1.93961333,  1.92597284,  1.91111801,  1.89510914,\n",
        "        1.87800966,  1.85988547,  1.8408044 ,  1.82083564,  1.80004921,\n",
        "        1.77851539,  1.7563043 ,  1.73348536,  1.71012694,  1.68629599,\n",
        "        1.66205762,  1.63747493,  1.61260866,  1.58751705,  1.56225566,\n",
        "        1.53687722,  1.51143158,  1.48596561,  1.46052321,  1.43514531,\n",
        "        1.40986984,  1.38473186,  1.35976355,  1.33499435,  1.31045099,\n",
        "        1.28615765,  1.26213605,  1.23840554,  1.21498326,  1.19188425,\n",
        "        1.16912156,  1.14670639,  1.1246482 ,  1.10295484,  1.08163268,\n",
        "        1.06068666,  1.04012049,  1.01993669,  1.0001367 ,  0.98072101])"
       ]
      }
     ],
     "prompt_number": 146
    },
    {
     "cell_type": "code",
     "collapsed": false,
     "input": [
      "x"
     ],
     "language": "python",
     "metadata": {},
     "outputs": [
      {
       "metadata": {},
       "output_type": "pyout",
       "prompt_number": 147,
       "text": [
        "array([ -0.2,  -0.1,   0. ,   0.1,   0.2,   0.3,   0.4,   0.5,   0.6,\n",
        "         0.7,   0.8,   0.9,   1. ,   1.1,   1.2,   1.3,   1.4,   1.5,\n",
        "         1.6,   1.7,   1.8,   1.9,   2. ,   2.1,   2.2,   2.3,   2.4,\n",
        "         2.5,   2.6,   2.7,   2.8,   2.9,   3. ,   3.1,   3.2,   3.3,\n",
        "         3.4,   3.5,   3.6,   3.7,   3.8,   3.9,   4. ,   4.1,   4.2,\n",
        "         4.3,   4.4,   4.5,   4.6,   4.7,   4.8,   4.9,   5. ,   5.1,\n",
        "         5.2,   5.3,   5.4,   5.5,   5.6,   5.7,   5.8,   5.9,   6. ,\n",
        "         6.1,   6.2,   6.3,   6.4,   6.5,   6.6,   6.7,   6.8,   6.9,\n",
        "         7. ,   7.1,   7.2,   7.3,   7.4,   7.5,   7.6,   7.7,   7.8,\n",
        "         7.9,   8. ,   8.1,   8.2,   8.3,   8.4,   8.5,   8.6,   8.7,\n",
        "         8.8,   8.9,   9. ,   9.1,   9.2,   9.3,   9.4,   9.5,   9.6,\n",
        "         9.7,   9.8,   9.9,  10. ,  10.1,  10.2])"
       ]
      }
     ],
     "prompt_number": 147
    },
    {
     "cell_type": "code",
     "collapsed": false,
     "input": [],
     "language": "python",
     "metadata": {},
     "outputs": []
    }
   ],
   "metadata": {}
  }
 ]
}
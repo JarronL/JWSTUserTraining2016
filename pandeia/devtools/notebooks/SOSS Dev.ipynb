{
 "cells": [
  {
   "cell_type": "code",
   "execution_count": 1,
   "metadata": {
    "collapsed": false
   },
   "outputs": [],
   "source": [
    "import os\n",
    "import sys\n",
    "import json\n",
    "import numpy as np\n",
    "import matplotlib\n",
    "matplotlib.use('nbagg')\n",
    "from matplotlib import style\n",
    "style.use('ggplot')\n",
    "import matplotlib.pyplot as plt\n",
    "from astropy.io import fits\n",
    "from astropy.table import Table\n",
    "%matplotlib inline\n",
    "%load_ext autoreload\n",
    "%autoreload 2"
   ]
  },
  {
   "cell_type": "code",
   "execution_count": 68,
   "metadata": {
    "collapsed": false
   },
   "outputs": [
    {
     "ename": "FileNotFoundError",
     "evalue": "[Errno 2] No such file or directory: '/Users/pickering/Desktop/gr700xd_1_disp.fits'",
     "output_type": "error",
     "traceback": [
      "\u001b[0;31m---------------------------------------------------------------------------\u001b[0m",
      "\u001b[0;31mFileNotFoundError\u001b[0m                         Traceback (most recent call last)",
      "\u001b[0;32m<ipython-input-68-cb04eb6c5427>\u001b[0m in \u001b[0;36m<module>\u001b[0;34m()\u001b[0m\n\u001b[1;32m      1\u001b[0m \u001b[0mgr700_1st\u001b[0m \u001b[0;34m=\u001b[0m \u001b[0mTable\u001b[0m\u001b[0;34m.\u001b[0m\u001b[0mread\u001b[0m\u001b[0;34m(\u001b[0m\u001b[0;34m\"dispersion/gr700xd_1_disp.fits\"\u001b[0m\u001b[0;34m)\u001b[0m\u001b[0;34m\u001b[0m\u001b[0m\n\u001b[1;32m      2\u001b[0m \u001b[0mgr700_2nd\u001b[0m \u001b[0;34m=\u001b[0m \u001b[0mTable\u001b[0m\u001b[0;34m.\u001b[0m\u001b[0mread\u001b[0m\u001b[0;34m(\u001b[0m\u001b[0;34m\"dispersion/gr700xd_2_disp.fits\"\u001b[0m\u001b[0;34m)\u001b[0m\u001b[0;34m\u001b[0m\u001b[0m\n\u001b[0;32m----> 3\u001b[0;31m \u001b[0mkmp_1st\u001b[0m \u001b[0;34m=\u001b[0m \u001b[0mTable\u001b[0m\u001b[0;34m.\u001b[0m\u001b[0mread\u001b[0m\u001b[0;34m(\u001b[0m\u001b[0;34m\"/Users/pickering/Desktop/gr700xd_1_disp.fits\"\u001b[0m\u001b[0;34m)\u001b[0m\u001b[0;34m\u001b[0m\u001b[0m\n\u001b[0m\u001b[1;32m      4\u001b[0m \u001b[0mkmp_2nd\u001b[0m \u001b[0;34m=\u001b[0m \u001b[0mTable\u001b[0m\u001b[0;34m.\u001b[0m\u001b[0mread\u001b[0m\u001b[0;34m(\u001b[0m\u001b[0;34m\"/Users/pickering/Desktop/gr700xd_2_disp.fits\"\u001b[0m\u001b[0;34m)\u001b[0m\u001b[0;34m\u001b[0m\u001b[0m\n",
      "\u001b[0;32m/Users/pickering/miniconda3/lib/python3.4/site-packages/astropy/table/table.py\u001b[0m in \u001b[0;36mread\u001b[0;34m(cls, *args, **kwargs)\u001b[0m\n\u001b[1;32m   2259\u001b[0m         \u001b[0mpassed\u001b[0m \u001b[0mthrough\u001b[0m \u001b[0mto\u001b[0m \u001b[0mthe\u001b[0m \u001b[0munderlying\u001b[0m \u001b[0mdata\u001b[0m \u001b[0mreader\u001b[0m \u001b[0;34m(\u001b[0m\u001b[0me\u001b[0m\u001b[0;34m.\u001b[0m\u001b[0mg\u001b[0m\u001b[0;34m.\u001b[0m\u001b[0;31m \u001b[0m\u001b[0;31m`\u001b[0m\u001b[0;34m~\u001b[0m\u001b[0mastropy\u001b[0m\u001b[0;34m.\u001b[0m\u001b[0mio\u001b[0m\u001b[0;34m.\u001b[0m\u001b[0mascii\u001b[0m\u001b[0;34m.\u001b[0m\u001b[0mread\u001b[0m\u001b[0;31m`\u001b[0m\u001b[0;34m)\u001b[0m\u001b[0;34m.\u001b[0m\u001b[0;34m\u001b[0m\u001b[0m\n\u001b[1;32m   2260\u001b[0m         \"\"\"\n\u001b[0;32m-> 2261\u001b[0;31m         \u001b[0;32mreturn\u001b[0m \u001b[0mio_registry\u001b[0m\u001b[0;34m.\u001b[0m\u001b[0mread\u001b[0m\u001b[0;34m(\u001b[0m\u001b[0mcls\u001b[0m\u001b[0;34m,\u001b[0m \u001b[0;34m*\u001b[0m\u001b[0margs\u001b[0m\u001b[0;34m,\u001b[0m \u001b[0;34m**\u001b[0m\u001b[0mkwargs\u001b[0m\u001b[0;34m)\u001b[0m\u001b[0;34m\u001b[0m\u001b[0m\n\u001b[0m\u001b[1;32m   2262\u001b[0m \u001b[0;34m\u001b[0m\u001b[0m\n\u001b[1;32m   2263\u001b[0m     \u001b[0;32mdef\u001b[0m \u001b[0mwrite\u001b[0m\u001b[0;34m(\u001b[0m\u001b[0mself\u001b[0m\u001b[0;34m,\u001b[0m \u001b[0;34m*\u001b[0m\u001b[0margs\u001b[0m\u001b[0;34m,\u001b[0m \u001b[0;34m**\u001b[0m\u001b[0mkwargs\u001b[0m\u001b[0;34m)\u001b[0m\u001b[0;34m:\u001b[0m\u001b[0;34m\u001b[0m\u001b[0m\n",
      "\u001b[0;32m/Users/pickering/miniconda3/lib/python3.4/site-packages/astropy/io/registry.py\u001b[0m in \u001b[0;36mread\u001b[0;34m(cls, *args, **kwargs)\u001b[0m\n\u001b[1;32m    339\u001b[0m \u001b[0;34m\u001b[0m\u001b[0m\n\u001b[1;32m    340\u001b[0m             format = _get_valid_format(\n\u001b[0;32m--> 341\u001b[0;31m                 'read', cls, path, fileobj, args, kwargs)\n\u001b[0m\u001b[1;32m    342\u001b[0m \u001b[0;34m\u001b[0m\u001b[0m\n\u001b[1;32m    343\u001b[0m         \u001b[0mreader\u001b[0m \u001b[0;34m=\u001b[0m \u001b[0mget_reader\u001b[0m\u001b[0;34m(\u001b[0m\u001b[0mformat\u001b[0m\u001b[0;34m,\u001b[0m \u001b[0mcls\u001b[0m\u001b[0;34m)\u001b[0m\u001b[0;34m\u001b[0m\u001b[0m\n",
      "\u001b[0;32m/Users/pickering/miniconda3/lib/python3.4/site-packages/astropy/io/registry.py\u001b[0m in \u001b[0;36m_get_valid_format\u001b[0;34m(mode, cls, path, fileobj, args, kwargs)\u001b[0m\n\u001b[1;32m    422\u001b[0m         \u001b[0mfuncs\u001b[0m \u001b[0;34m=\u001b[0m \u001b[0m_writers\u001b[0m\u001b[0;34m\u001b[0m\u001b[0m\n\u001b[1;32m    423\u001b[0m \u001b[0;34m\u001b[0m\u001b[0m\n\u001b[0;32m--> 424\u001b[0;31m     \u001b[0mvalid_formats\u001b[0m \u001b[0;34m=\u001b[0m \u001b[0midentify_format\u001b[0m\u001b[0;34m(\u001b[0m\u001b[0mmode\u001b[0m\u001b[0;34m,\u001b[0m \u001b[0mcls\u001b[0m\u001b[0;34m,\u001b[0m \u001b[0mpath\u001b[0m\u001b[0;34m,\u001b[0m \u001b[0mfileobj\u001b[0m\u001b[0;34m,\u001b[0m \u001b[0margs\u001b[0m\u001b[0;34m,\u001b[0m \u001b[0mkwargs\u001b[0m\u001b[0;34m)\u001b[0m\u001b[0;34m\u001b[0m\u001b[0m\n\u001b[0m\u001b[1;32m    425\u001b[0m \u001b[0;34m\u001b[0m\u001b[0m\n\u001b[1;32m    426\u001b[0m     \u001b[0;32mif\u001b[0m \u001b[0mlen\u001b[0m\u001b[0;34m(\u001b[0m\u001b[0mvalid_formats\u001b[0m\u001b[0;34m)\u001b[0m \u001b[0;34m==\u001b[0m \u001b[0;36m0\u001b[0m\u001b[0;34m:\u001b[0m\u001b[0;34m\u001b[0m\u001b[0m\n",
      "\u001b[0;32m/Users/pickering/miniconda3/lib/python3.4/site-packages/astropy/io/registry.py\u001b[0m in \u001b[0;36midentify_format\u001b[0;34m(origin, data_class_required, path, fileobj, args, kwargs)\u001b[0m\n\u001b[1;32m    258\u001b[0m         \u001b[0;32mif\u001b[0m \u001b[0m_is_best_match\u001b[0m\u001b[0;34m(\u001b[0m\u001b[0mdata_class_required\u001b[0m\u001b[0;34m,\u001b[0m \u001b[0mdata_class\u001b[0m\u001b[0;34m,\u001b[0m \u001b[0m_identifiers\u001b[0m\u001b[0;34m)\u001b[0m\u001b[0;34m:\u001b[0m\u001b[0;34m\u001b[0m\u001b[0m\n\u001b[1;32m    259\u001b[0m             if _identifiers[(data_format, data_class)](\n\u001b[0;32m--> 260\u001b[0;31m                 origin, path, fileobj, *args, **kwargs):\n\u001b[0m\u001b[1;32m    261\u001b[0m                 \u001b[0mvalid_formats\u001b[0m\u001b[0;34m.\u001b[0m\u001b[0mappend\u001b[0m\u001b[0;34m(\u001b[0m\u001b[0mdata_format\u001b[0m\u001b[0;34m)\u001b[0m\u001b[0;34m\u001b[0m\u001b[0m\n\u001b[1;32m    262\u001b[0m \u001b[0;34m\u001b[0m\u001b[0m\n",
      "\u001b[0;32m/Users/pickering/miniconda3/lib/python3.4/site-packages/astropy/io/votable/connect.py\u001b[0m in \u001b[0;36mis_votable\u001b[0;34m(origin, filepath, fileobj, *args, **kwargs)\u001b[0m\n\u001b[1;32m     36\u001b[0m             \u001b[0;32mreturn\u001b[0m \u001b[0mresult\u001b[0m\u001b[0;34m\u001b[0m\u001b[0m\n\u001b[1;32m     37\u001b[0m         \u001b[0;32melif\u001b[0m \u001b[0mfilepath\u001b[0m \u001b[0;32mis\u001b[0m \u001b[0;32mnot\u001b[0m \u001b[0;32mNone\u001b[0m\u001b[0;34m:\u001b[0m\u001b[0;34m\u001b[0m\u001b[0m\n\u001b[0;32m---> 38\u001b[0;31m             \u001b[0;32mreturn\u001b[0m \u001b[0mis_votable\u001b[0m\u001b[0;34m(\u001b[0m\u001b[0mfilepath\u001b[0m\u001b[0;34m)\u001b[0m\u001b[0;34m\u001b[0m\u001b[0m\n\u001b[0m\u001b[1;32m     39\u001b[0m         \u001b[0;32melif\u001b[0m \u001b[0misinstance\u001b[0m\u001b[0;34m(\u001b[0m\u001b[0margs\u001b[0m\u001b[0;34m[\u001b[0m\u001b[0;36m0\u001b[0m\u001b[0;34m]\u001b[0m\u001b[0;34m,\u001b[0m \u001b[0;34m(\u001b[0m\u001b[0mVOTableFile\u001b[0m\u001b[0;34m,\u001b[0m \u001b[0mVOTable\u001b[0m\u001b[0;34m)\u001b[0m\u001b[0;34m)\u001b[0m\u001b[0;34m:\u001b[0m\u001b[0;34m\u001b[0m\u001b[0m\n\u001b[1;32m     40\u001b[0m             \u001b[0;32mreturn\u001b[0m \u001b[0;32mTrue\u001b[0m\u001b[0;34m\u001b[0m\u001b[0m\n",
      "\u001b[0;32m/Users/pickering/miniconda3/lib/python3.4/site-packages/astropy/io/votable/table.py\u001b[0m in \u001b[0;36mis_votable\u001b[0;34m(source)\u001b[0m\n\u001b[1;32m    358\u001b[0m     \"\"\"\n\u001b[1;32m    359\u001b[0m     \u001b[0;32mtry\u001b[0m\u001b[0;34m:\u001b[0m\u001b[0;34m\u001b[0m\u001b[0m\n\u001b[0;32m--> 360\u001b[0;31m         \u001b[0;32mwith\u001b[0m \u001b[0miterparser\u001b[0m\u001b[0;34m.\u001b[0m\u001b[0mget_xml_iterator\u001b[0m\u001b[0;34m(\u001b[0m\u001b[0msource\u001b[0m\u001b[0;34m)\u001b[0m \u001b[0;32mas\u001b[0m \u001b[0miterator\u001b[0m\u001b[0;34m:\u001b[0m\u001b[0;34m\u001b[0m\u001b[0m\n\u001b[0m\u001b[1;32m    361\u001b[0m             \u001b[0;32mfor\u001b[0m \u001b[0mstart\u001b[0m\u001b[0;34m,\u001b[0m \u001b[0mtag\u001b[0m\u001b[0;34m,\u001b[0m \u001b[0mdata\u001b[0m\u001b[0;34m,\u001b[0m \u001b[0mpos\u001b[0m \u001b[0;32min\u001b[0m \u001b[0miterator\u001b[0m\u001b[0;34m:\u001b[0m\u001b[0;34m\u001b[0m\u001b[0m\n\u001b[1;32m    362\u001b[0m                 \u001b[0;32mif\u001b[0m \u001b[0mtag\u001b[0m \u001b[0;34m!=\u001b[0m \u001b[0;34m'xml'\u001b[0m\u001b[0;34m:\u001b[0m\u001b[0;34m\u001b[0m\u001b[0m\n",
      "\u001b[0;32m/Users/pickering/miniconda3/lib/python3.4/contextlib.py\u001b[0m in \u001b[0;36m__enter__\u001b[0;34m(self)\u001b[0m\n\u001b[1;32m     57\u001b[0m     \u001b[0;32mdef\u001b[0m \u001b[0m__enter__\u001b[0m\u001b[0;34m(\u001b[0m\u001b[0mself\u001b[0m\u001b[0;34m)\u001b[0m\u001b[0;34m:\u001b[0m\u001b[0;34m\u001b[0m\u001b[0m\n\u001b[1;32m     58\u001b[0m         \u001b[0;32mtry\u001b[0m\u001b[0;34m:\u001b[0m\u001b[0;34m\u001b[0m\u001b[0m\n\u001b[0;32m---> 59\u001b[0;31m             \u001b[0;32mreturn\u001b[0m \u001b[0mnext\u001b[0m\u001b[0;34m(\u001b[0m\u001b[0mself\u001b[0m\u001b[0;34m.\u001b[0m\u001b[0mgen\u001b[0m\u001b[0;34m)\u001b[0m\u001b[0;34m\u001b[0m\u001b[0m\n\u001b[0m\u001b[1;32m     60\u001b[0m         \u001b[0;32mexcept\u001b[0m \u001b[0mStopIteration\u001b[0m\u001b[0;34m:\u001b[0m\u001b[0;34m\u001b[0m\u001b[0m\n\u001b[1;32m     61\u001b[0m             \u001b[0;32mraise\u001b[0m \u001b[0mRuntimeError\u001b[0m\u001b[0;34m(\u001b[0m\u001b[0;34m\"generator didn't yield\"\u001b[0m\u001b[0;34m)\u001b[0m \u001b[0;32mfrom\u001b[0m \u001b[0;32mNone\u001b[0m\u001b[0;34m\u001b[0m\u001b[0m\n",
      "\u001b[0;32m/Users/pickering/miniconda3/lib/python3.4/site-packages/astropy/utils/xml/iterparser.py\u001b[0m in \u001b[0;36mget_xml_iterator\u001b[0;34m(source, _debug_python_based_parser)\u001b[0m\n\u001b[1;32m    173\u001b[0m               \u001b[0mevent\u001b[0m\u001b[0;34m.\u001b[0m\u001b[0;34m\u001b[0m\u001b[0m\n\u001b[1;32m    174\u001b[0m     \"\"\"\n\u001b[0;32m--> 175\u001b[0;31m     \u001b[0;32mwith\u001b[0m \u001b[0m_convert_to_fd_or_read_function\u001b[0m\u001b[0;34m(\u001b[0m\u001b[0msource\u001b[0m\u001b[0;34m)\u001b[0m \u001b[0;32mas\u001b[0m \u001b[0mfd\u001b[0m\u001b[0;34m:\u001b[0m\u001b[0;34m\u001b[0m\u001b[0m\n\u001b[0m\u001b[1;32m    176\u001b[0m         \u001b[0;32mif\u001b[0m \u001b[0m_debug_python_based_parser\u001b[0m\u001b[0;34m:\u001b[0m\u001b[0;34m\u001b[0m\u001b[0m\n\u001b[1;32m    177\u001b[0m             \u001b[0mcontext\u001b[0m \u001b[0;34m=\u001b[0m \u001b[0m_slow_iterparse\u001b[0m\u001b[0;34m(\u001b[0m\u001b[0mfd\u001b[0m\u001b[0;34m)\u001b[0m\u001b[0;34m\u001b[0m\u001b[0m\n",
      "\u001b[0;32m/Users/pickering/miniconda3/lib/python3.4/contextlib.py\u001b[0m in \u001b[0;36m__enter__\u001b[0;34m(self)\u001b[0m\n\u001b[1;32m     57\u001b[0m     \u001b[0;32mdef\u001b[0m \u001b[0m__enter__\u001b[0m\u001b[0;34m(\u001b[0m\u001b[0mself\u001b[0m\u001b[0;34m)\u001b[0m\u001b[0;34m:\u001b[0m\u001b[0;34m\u001b[0m\u001b[0m\n\u001b[1;32m     58\u001b[0m         \u001b[0;32mtry\u001b[0m\u001b[0;34m:\u001b[0m\u001b[0;34m\u001b[0m\u001b[0m\n\u001b[0;32m---> 59\u001b[0;31m             \u001b[0;32mreturn\u001b[0m \u001b[0mnext\u001b[0m\u001b[0;34m(\u001b[0m\u001b[0mself\u001b[0m\u001b[0;34m.\u001b[0m\u001b[0mgen\u001b[0m\u001b[0;34m)\u001b[0m\u001b[0;34m\u001b[0m\u001b[0m\n\u001b[0m\u001b[1;32m     60\u001b[0m         \u001b[0;32mexcept\u001b[0m \u001b[0mStopIteration\u001b[0m\u001b[0;34m:\u001b[0m\u001b[0;34m\u001b[0m\u001b[0m\n\u001b[1;32m     61\u001b[0m             \u001b[0;32mraise\u001b[0m \u001b[0mRuntimeError\u001b[0m\u001b[0;34m(\u001b[0m\u001b[0;34m\"generator didn't yield\"\u001b[0m\u001b[0;34m)\u001b[0m \u001b[0;32mfrom\u001b[0m \u001b[0;32mNone\u001b[0m\u001b[0;34m\u001b[0m\u001b[0m\n",
      "\u001b[0;32m/Users/pickering/miniconda3/lib/python3.4/site-packages/astropy/utils/xml/iterparser.py\u001b[0m in \u001b[0;36m_convert_to_fd_or_read_function\u001b[0;34m(fd)\u001b[0m\n\u001b[1;32m     64\u001b[0m         \u001b[0;32mreturn\u001b[0m\u001b[0;34m\u001b[0m\u001b[0m\n\u001b[1;32m     65\u001b[0m \u001b[0;34m\u001b[0m\u001b[0m\n\u001b[0;32m---> 66\u001b[0;31m     \u001b[0;32mwith\u001b[0m \u001b[0mdata\u001b[0m\u001b[0;34m.\u001b[0m\u001b[0mget_readable_fileobj\u001b[0m\u001b[0;34m(\u001b[0m\u001b[0mfd\u001b[0m\u001b[0;34m,\u001b[0m \u001b[0mencoding\u001b[0m\u001b[0;34m=\u001b[0m\u001b[0;34m'binary'\u001b[0m\u001b[0;34m)\u001b[0m \u001b[0;32mas\u001b[0m \u001b[0mnew_fd\u001b[0m\u001b[0;34m:\u001b[0m\u001b[0;34m\u001b[0m\u001b[0m\n\u001b[0m\u001b[1;32m     67\u001b[0m         \u001b[0;32mif\u001b[0m \u001b[0msys\u001b[0m\u001b[0;34m.\u001b[0m\u001b[0mplatform\u001b[0m\u001b[0;34m.\u001b[0m\u001b[0mstartswith\u001b[0m\u001b[0;34m(\u001b[0m\u001b[0;34m'win'\u001b[0m\u001b[0;34m)\u001b[0m\u001b[0;34m:\u001b[0m\u001b[0;34m\u001b[0m\u001b[0m\n\u001b[1;32m     68\u001b[0m             \u001b[0;32myield\u001b[0m \u001b[0mnew_fd\u001b[0m\u001b[0;34m.\u001b[0m\u001b[0mread\u001b[0m\u001b[0;34m\u001b[0m\u001b[0m\n",
      "\u001b[0;32m/Users/pickering/miniconda3/lib/python3.4/contextlib.py\u001b[0m in \u001b[0;36m__enter__\u001b[0;34m(self)\u001b[0m\n\u001b[1;32m     57\u001b[0m     \u001b[0;32mdef\u001b[0m \u001b[0m__enter__\u001b[0m\u001b[0;34m(\u001b[0m\u001b[0mself\u001b[0m\u001b[0;34m)\u001b[0m\u001b[0;34m:\u001b[0m\u001b[0;34m\u001b[0m\u001b[0m\n\u001b[1;32m     58\u001b[0m         \u001b[0;32mtry\u001b[0m\u001b[0;34m:\u001b[0m\u001b[0;34m\u001b[0m\u001b[0m\n\u001b[0;32m---> 59\u001b[0;31m             \u001b[0;32mreturn\u001b[0m \u001b[0mnext\u001b[0m\u001b[0;34m(\u001b[0m\u001b[0mself\u001b[0m\u001b[0;34m.\u001b[0m\u001b[0mgen\u001b[0m\u001b[0;34m)\u001b[0m\u001b[0;34m\u001b[0m\u001b[0m\n\u001b[0m\u001b[1;32m     60\u001b[0m         \u001b[0;32mexcept\u001b[0m \u001b[0mStopIteration\u001b[0m\u001b[0;34m:\u001b[0m\u001b[0;34m\u001b[0m\u001b[0m\n\u001b[1;32m     61\u001b[0m             \u001b[0;32mraise\u001b[0m \u001b[0mRuntimeError\u001b[0m\u001b[0;34m(\u001b[0m\u001b[0;34m\"generator didn't yield\"\u001b[0m\u001b[0;34m)\u001b[0m \u001b[0;32mfrom\u001b[0m \u001b[0;32mNone\u001b[0m\u001b[0;34m\u001b[0m\u001b[0m\n",
      "\u001b[0;32m/Users/pickering/miniconda3/lib/python3.4/site-packages/astropy/utils/data.py\u001b[0m in \u001b[0;36mget_readable_fileobj\u001b[0;34m(name_or_obj, encoding, cache, show_progress, remote_timeout)\u001b[0m\n\u001b[1;32m    198\u001b[0m                 timeout=remote_timeout)\n\u001b[1;32m    199\u001b[0m         \u001b[0;32mif\u001b[0m \u001b[0msix\u001b[0m\u001b[0;34m.\u001b[0m\u001b[0mPY3\u001b[0m\u001b[0;34m:\u001b[0m\u001b[0;34m\u001b[0m\u001b[0m\n\u001b[0;32m--> 200\u001b[0;31m             \u001b[0mfileobj\u001b[0m \u001b[0;34m=\u001b[0m \u001b[0mio\u001b[0m\u001b[0;34m.\u001b[0m\u001b[0mFileIO\u001b[0m\u001b[0;34m(\u001b[0m\u001b[0mname_or_obj\u001b[0m\u001b[0;34m,\u001b[0m \u001b[0;34m'r'\u001b[0m\u001b[0;34m)\u001b[0m\u001b[0;34m\u001b[0m\u001b[0m\n\u001b[0m\u001b[1;32m    201\u001b[0m         \u001b[0;32melif\u001b[0m \u001b[0msix\u001b[0m\u001b[0;34m.\u001b[0m\u001b[0mPY2\u001b[0m\u001b[0;34m:\u001b[0m\u001b[0;34m\u001b[0m\u001b[0m\n\u001b[1;32m    202\u001b[0m             \u001b[0mfileobj\u001b[0m \u001b[0;34m=\u001b[0m \u001b[0mopen\u001b[0m\u001b[0;34m(\u001b[0m\u001b[0mname_or_obj\u001b[0m\u001b[0;34m,\u001b[0m \u001b[0;34m'rb'\u001b[0m\u001b[0;34m)\u001b[0m\u001b[0;34m\u001b[0m\u001b[0m\n",
      "\u001b[0;31mFileNotFoundError\u001b[0m: [Errno 2] No such file or directory: '/Users/pickering/Desktop/gr700xd_1_disp.fits'"
     ]
    }
   ],
   "source": [
    "gr700_1st = Table.read(\"dispersion/gr700xd_1_disp.fits\")\n",
    "gr700_2nd = Table.read(\"dispersion/gr700xd_2_disp.fits\")\n",
    "kmp_1st = Table.read(\"/Users/pickering/Desktop/gr700xd_1_disp.fits\")\n",
    "kmp_2nd = Table.read(\"/Users/pickering/Desktop/gr700xd_2_disp.fits\")"
   ]
  },
  {
   "cell_type": "code",
   "execution_count": 3,
   "metadata": {
    "collapsed": false
   },
   "outputs": [],
   "source": [
    "from astropy.modeling import models, fitting"
   ]
  },
  {
   "cell_type": "code",
   "execution_count": 4,
   "metadata": {
    "collapsed": false
   },
   "outputs": [
    {
     "name": "stderr",
     "output_type": "stream",
     "text": [
      "WARNING: Model is linear in parameters; consider using linear fitting methods. [astropy.modeling.fitting]\n",
      "WARNING:astropy:Model is linear in parameters; consider using linear fitting methods.\n"
     ]
    },
    {
     "data": {
      "text/plain": [
       "[<matplotlib.lines.Line2D at 0x1106aa080>]"
      ]
     },
     "execution_count": 4,
     "metadata": {},
     "output_type": "execute_result"
    },
    {
     "data": {
      "image/png": "[encoded data removed]",
      "text/plain": [
       "<matplotlib.figure.Figure at 0x10eda64e0>"
      ]
     },
     "metadata": {},
     "output_type": "display_data"
    }
   ],
   "source": [
    "fitter = fitting.LevMarLSQFitter()\n",
    "dlds_fit1 = fitter(models.Polynomial1D(6), kmp_1st['WAVELENGTH'], kmp_1st['DLDS'])\n",
    "dlds_fit2 = fitter(models.Polynomial1D(6), kmp_2nd['WAVELENGTH'], kmp_2nd['DLDS'])\n",
    "r_fit1 = fitter(models.Polynomial1D(6), kmp_1st['WAVELENGTH'], kmp_1st['R'])\n",
    "r_fit2 = fitter(models.Polynomial1D(6), kmp_2nd['WAVELENGTH'], kmp_2nd['R'])\n",
    "plt.plot(dlds_fit1(gr700_1st['wavelength']))"
   ]
  },
  {
   "cell_type": "code",
   "execution_count": 5,
   "metadata": {
    "collapsed": false
   },
   "outputs": [],
   "source": [
    "gr700_1st['R'] = r_fit1(gr700_1st['wavelength'])\n",
    "gr700_2nd['R'] = r_fit1(gr700_2nd['wavelength'])\n",
    "gr700_1st['dlds'] = dlds_fit1(gr700_1st['wavelength'])\n",
    "gr700_2nd['dlds'] = dlds_fit2(gr700_2nd['wavelength'])\n",
    "gr700_1st.write(\"dispersion/gr700xd_1_disp.fits\", overwrite=True)\n",
    "gr700_2nd.write(\"dispersion/gr700xd_2_disp.fits\", overwrite=True)"
   ]
  },
  {
   "cell_type": "code",
   "execution_count": 6,
   "metadata": {
    "collapsed": false
   },
   "outputs": [
    {
     "data": {
      "text/plain": [
       "0.83089999999999997"
      ]
     },
     "execution_count": 6,
     "metadata": {},
     "output_type": "execute_result"
    }
   ],
   "source": [
    "gr700_1st['wavelength'].min()"
   ]
  },
  {
   "cell_type": "code",
   "execution_count": 7,
   "metadata": {
    "collapsed": false
   },
   "outputs": [],
   "source": [
    "mean1 = gr700_1st['dlds'].mean()\n",
    "mean2 = gr700_2nd['dlds'].mean()"
   ]
  },
  {
   "cell_type": "code",
   "execution_count": 8,
   "metadata": {
    "collapsed": true
   },
   "outputs": [],
   "source": [
    "gr700_2nd['dlds'] = mean1 + 0.0*gr700_2nd['wavelength']\n"
   ]
  },
  {
   "cell_type": "code",
   "execution_count": 9,
   "metadata": {
    "collapsed": false
   },
   "outputs": [
    {
     "data": {
      "text/html": [
       "&lt;Table masked=True length=2040&gt;\n",
       "<table id=\"table4510936536\">\n",
       "<thead><tr><th>pixels</th><th>wavelength</th><th>dlds</th><th>R</th><th>trace</th></tr></thead>\n",
       "<thead><tr><th>int64</th><th>float64</th><th>float64</th><th>float64</th><th>float64</th></tr></thead>\n",
       "<tr><td>4</td><td>0.8309</td><td>0.00089751231863</td><td>462.890582532</td><td>51.6253929037</td></tr>\n",
       "<tr><td>5</td><td>0.8318</td><td>0.000897678366853</td><td>463.306252392</td><td>51.8058365033</td></tr>\n",
       "<tr><td>6</td><td>0.8328</td><td>0.000897862844403</td><td>463.767938049</td><td>51.9856066727</td></tr>\n",
       "<tr><td>7</td><td>0.8338</td><td>0.000898047298795</td><td>464.229445999</td><td>52.1647052681</td></tr>\n",
       "<tr><td>8</td><td>0.8348</td><td>0.000898231728369</td><td>464.690777243</td><td>52.3431341416</td></tr>\n",
       "<tr><td>9</td><td>0.8357</td><td>0.000898397692403</td><td>465.105825108</td><td>52.5208951413</td></tr>\n",
       "<tr><td>10</td><td>0.8367</td><td>0.000898582070282</td><td>465.566823372</td><td>52.6979901112</td></tr>\n",
       "<tr><td>11</td><td>0.8377</td><td>0.000898766418571</td><td>466.027647835</td><td>52.8744208915</td></tr>\n",
       "<tr><td>12</td><td>0.8386</td><td>0.000898932305382</td><td>466.442242079</td><td>53.050189318</td></tr>\n",
       "<tr><td>13</td><td>0.8396</td><td>0.000899116592955</td><td>466.902739077</td><td>53.2252972228</td></tr>\n",
       "<tr><td>...</td><td>...</td><td>...</td><td>...</td><td>...</td></tr>\n",
       "<tr><td>2034</td><td>2.8</td><td>0.000959974652223</td><td>1458.37184009</td><td>37.7433221936</td></tr>\n",
       "<tr><td>2035</td><td>2.801</td><td>0.000959995974443</td><td>1458.86028409</td><td>37.6951705763</td></tr>\n",
       "<tr><td>2036</td><td>2.8019</td><td>0.000960015174126</td><td>1459.29985042</td><td>37.6469957405</td></tr>\n",
       "<tr><td>2037</td><td>2.8029</td><td>0.000960036517559</td><td>1459.78822094</td><td>37.5987975475</td></tr>\n",
       "<tr><td>2038</td><td>2.8039</td><td>0.000960057871664</td><td>1460.27655351</td><td>37.5505758581</td></tr>\n",
       "<tr><td>2039</td><td>2.8048</td><td>0.000960077099203</td><td>1460.71602079</td><td>37.5023305318</td></tr>\n",
       "<tr><td>2040</td><td>2.8058</td><td>0.00096009847265</td><td>1461.20428265</td><td>37.4540614275</td></tr>\n",
       "<tr><td>2041</td><td>2.8068</td><td>0.000960119855784</td><td>1461.69250802</td><td>37.4057684032</td></tr>\n",
       "<tr><td>2042</td><td>2.8077</td><td>0.000960139108605</td><td>1462.13188008</td><td>37.3574513159</td></tr>\n",
       "<tr><td>2043</td><td>2.8087</td><td>0.000960160509204</td><td>1462.62003752</td><td>37.3091100216</td></tr>\n",
       "</table>"
      ],
      "text/plain": [
       "<Table masked=True length=2040>\n",
       "pixels wavelength        dlds             R           trace    \n",
       "int64   float64        float64         float64       float64   \n",
       "------ ---------- ----------------- ------------- -------------\n",
       "     4     0.8309  0.00089751231863 462.890582532 51.6253929037\n",
       "     5     0.8318 0.000897678366853 463.306252392 51.8058365033\n",
       "     6     0.8328 0.000897862844403 463.767938049 51.9856066727\n",
       "     7     0.8338 0.000898047298795 464.229445999 52.1647052681\n",
       "     8     0.8348 0.000898231728369 464.690777243 52.3431341416\n",
       "     9     0.8357 0.000898397692403 465.105825108 52.5208951413\n",
       "    10     0.8367 0.000898582070282 465.566823372 52.6979901112\n",
       "    11     0.8377 0.000898766418571 466.027647835 52.8744208915\n",
       "    12     0.8386 0.000898932305382 466.442242079  53.050189318\n",
       "    13     0.8396 0.000899116592955 466.902739077 53.2252972228\n",
       "   ...        ...               ...           ...           ...\n",
       "  2034        2.8 0.000959974652223 1458.37184009 37.7433221936\n",
       "  2035      2.801 0.000959995974443 1458.86028409 37.6951705763\n",
       "  2036     2.8019 0.000960015174126 1459.29985042 37.6469957405\n",
       "  2037     2.8029 0.000960036517559 1459.78822094 37.5987975475\n",
       "  2038     2.8039 0.000960057871664 1460.27655351 37.5505758581\n",
       "  2039     2.8048 0.000960077099203 1460.71602079 37.5023305318\n",
       "  2040     2.8058  0.00096009847265 1461.20428265 37.4540614275\n",
       "  2041     2.8068 0.000960119855784 1461.69250802 37.4057684032\n",
       "  2042     2.8077 0.000960139108605 1462.13188008 37.3574513159\n",
       "  2043     2.8087 0.000960160509204 1462.62003752 37.3091100216"
      ]
     },
     "execution_count": 9,
     "metadata": {},
     "output_type": "execute_result"
    }
   ],
   "source": [
    "gr700_2nd['R'] = gr700_2nd['wavelength'] / (2.0 * gr700_2nd['dlds'])\n",
    "gr700_1st['R'] = gr700_1st['wavelength'] / (2.0 * gr700_1st['dlds'])\n",
    "gr700_1st"
   ]
  },
  {
   "cell_type": "code",
   "execution_count": 10,
   "metadata": {
    "collapsed": false
   },
   "outputs": [],
   "source": [
    "gr700_1st.write(\"dispersion/gr700xd_1_disp.fits\", overwrite=True)\n",
    "gr700_2nd.write(\"dispersion/gr700xd_2_disp.fits\", overwrite=True)"
   ]
  },
  {
   "cell_type": "code",
   "execution_count": 69,
   "metadata": {
    "collapsed": true,
    "scrolled": true
   },
   "outputs": [],
   "source": [
    "from pandeia.engine.calc_utils import build_default_calc"
   ]
  },
  {
   "cell_type": "code",
   "execution_count": 70,
   "metadata": {
    "collapsed": false
   },
   "outputs": [],
   "source": [
    "calc = build_default_calc(telescope=\"jwst\", instrument=\"niriss\", mode=\"soss\")"
   ]
  },
  {
   "cell_type": "code",
   "execution_count": 71,
   "metadata": {
    "collapsed": false
   },
   "outputs": [],
   "source": [
    "from pandeia.engine.scene import Scene\n",
    "from pandeia.engine.instrument_factory import InstrumentFactory\n",
    "from pandeia.engine.strategy import StrategyFactory\n",
    "from pandeia.engine.observation import Observation\n",
    "from pandeia.engine.etc3D import CalculationConfig, DetectorSignal, CombinedSignal, DetectorNoise"
   ]
  },
  {
   "cell_type": "code",
   "execution_count": 72,
   "metadata": {
    "collapsed": false
   },
   "outputs": [],
   "source": [
    "scene = Scene(input=calc['scene'])\n",
    "instrument = InstrumentFactory(config=calc['configuration'])\n",
    "strategy = StrategyFactory(instrument, config=calc['strategy'])\n",
    "obs = Observation(scene=scene, instrument=instrument, strategy=strategy, background=calc['background'])\n",
    "seed = obs.get_random_seed()\n",
    "np.random.seed(seed=seed)"
   ]
  },
  {
   "cell_type": "code",
   "execution_count": 73,
   "metadata": {
    "collapsed": false
   },
   "outputs": [
    {
     "data": {
      "text/plain": [
       "<matplotlib.image.AxesImage at 0x138b39dd8>"
      ]
     },
     "execution_count": 73,
     "metadata": {},
     "output_type": "execute_result"
    },
    {
     "data": {
      "image/png": "[encoded data removed]",
      "text/plain": [
       "<matplotlib.figure.Figure at 0x137c017f0>"
      ]
     },
     "metadata": {},
     "output_type": "display_data"
    }
   ],
   "source": [
    "plt.figure(figsize=(8,16))\n",
    "s1 = DetectorSignal(obs, calc_config=CalculationConfig(), order=1)\n",
    "s2 = DetectorSignal(obs, calc_config=CalculationConfig(), order=2)\n",
    "s = CombinedSignal([s1, s2])\n",
    "plt.imshow(s.rate, aspect=2.0*s.rate.shape[1]/s.rate.shape[0], interpolation='nearest')"
   ]
  },
  {
   "cell_type": "code",
   "execution_count": 74,
   "metadata": {
    "collapsed": false
   },
   "outputs": [],
   "source": [
    "s = CombinedSignal([s1, s2])\n",
    "n = DetectorNoise(s, obs)"
   ]
  },
  {
   "cell_type": "code",
   "execution_count": 82,
   "metadata": {
    "collapsed": false
   },
   "outputs": [
    {
     "data": {
      "text/plain": [
       "<matplotlib.image.AxesImage at 0x11279ed30>"
      ]
     },
     "execution_count": 82,
     "metadata": {},
     "output_type": "execute_result"
    },
    {
     "data": {
      "image/png": "[encoded data removed]",
      "text/plain": [
       "<matplotlib.figure.Figure at 0x1122b51d0>"
      ]
     },
     "metadata": {},
     "output_type": "display_data"
    }
   ],
   "source": [
    "plt.figure(figsize=(8,16))\n",
    "plt.imshow(np.rot90(n.var_pix))"
   ]
  },
  {
   "cell_type": "code",
   "execution_count": 76,
   "metadata": {
    "collapsed": false
   },
   "outputs": [
    {
     "data": {
      "text/plain": [
       "{'detector_noise': array([[ 0.31976372,  0.31976372,  0.31976372, ...,  0.31976372,\n",
       "          0.31976372,  0.31976372],\n",
       "        [ 0.31976372,  0.31976372,  0.31976372, ...,  0.31976372,\n",
       "          0.31976372,  0.31976372],\n",
       "        [ 0.31976372,  0.31976372,  0.31976372, ...,  0.31976372,\n",
       "          0.31976372,  0.31976372],\n",
       "        ..., \n",
       "        [ 0.31976372,  0.31976372,  0.31976372, ...,  0.31976372,\n",
       "          0.31976372,  0.31976372],\n",
       "        [ 0.31976372,  0.31976372,  0.31976372, ...,  0.31976372,\n",
       "          0.31976372,  0.31976372],\n",
       "        [ 0.31976372,  0.31976372,  0.31976372, ...,  0.31976372,\n",
       "          0.31976372,  0.31976372]]),\n",
       " 'detector_signal': array([[ 2.1875376,  2.1875376,  2.1875376, ...,  2.1875376,  2.1875376,\n",
       "          2.1875376],\n",
       "        [ 2.1875376,  2.1875376,  2.1875376, ...,  2.1875376,  2.1875376,\n",
       "          2.1875376],\n",
       "        [ 2.1875376,  2.1875376,  2.1875376, ...,  2.1875376,  2.1875376,\n",
       "          2.1875376],\n",
       "        ..., \n",
       "        [ 2.1875376,  2.1875376,  2.1875376, ...,  2.1875376,  2.1875376,\n",
       "          2.1875376],\n",
       "        [ 2.1875376,  2.1875376,  2.1875376, ...,  2.1875376,  2.1875376,\n",
       "          2.1875376],\n",
       "        [ 2.1875376,  2.1875376,  2.1875376, ...,  2.1875376,  2.1875376,\n",
       "          2.1875376]]),\n",
       " 'extracted_flux': array([ 78.22256566,  78.71578087,  78.84137578, ...,  77.63735233,\n",
       "         77.59491175,  77.35682104]),\n",
       " 'extracted_flux_minus_bg': array([ 1.65874973,  2.15196494,  2.27755985, ...,  1.07353641,\n",
       "         1.03109583,  0.79300512]),\n",
       " 'extracted_noise': array([ 3.55362474,  3.55955548,  3.56097141, ...,  3.55394898,\n",
       "         3.55347826,  3.55059259]),\n",
       " 'plane_grid': <pandeia.engine.coords.IrregularGrid at 0x138b10cc0>,\n",
       " 'reconstructed': (array([[[  8.40886515e-18],\n",
       "          [  8.40886515e-18],\n",
       "          [  8.40886515e-18],\n",
       "          ..., \n",
       "          [ -3.49169327e-18],\n",
       "          [  2.34852545e-18],\n",
       "          [  1.99261588e-17]],\n",
       "  \n",
       "         [[  1.46451046e-17],\n",
       "          [  1.46451046e-17],\n",
       "          [  1.46451046e-17],\n",
       "          ..., \n",
       "          [  7.97007467e-18],\n",
       "          [  9.51287380e-18],\n",
       "          [  2.60615692e-17]],\n",
       "  \n",
       "         [[ -2.75423071e-18],\n",
       "          [ -2.75423071e-18],\n",
       "          [ -2.75423071e-18],\n",
       "          ..., \n",
       "          [ -7.76711908e-18],\n",
       "          [ -8.51735079e-18],\n",
       "          [  7.64936254e-18]],\n",
       "  \n",
       "         ..., \n",
       "         [[  4.99091152e-18],\n",
       "          [  4.99091152e-18],\n",
       "          [  4.99091152e-18],\n",
       "          ..., \n",
       "          [  2.75862290e-18],\n",
       "          [  1.10345886e-17],\n",
       "          [  2.76834305e-17]],\n",
       "  \n",
       "         [[ -2.95419175e-19],\n",
       "          [ -2.95419175e-19],\n",
       "          [ -2.95419175e-19],\n",
       "          ..., \n",
       "          [ -8.34433394e-18],\n",
       "          [ -1.31935656e-18],\n",
       "          [  1.74020282e-17]],\n",
       "  \n",
       "         [[  1.12958227e-17],\n",
       "          [  1.12958227e-17],\n",
       "          [  1.12958227e-17],\n",
       "          ..., \n",
       "          [ -9.07664790e-19],\n",
       "          [  6.48203151e-18],\n",
       "          [  2.46791934e-17]]]), array([[[ 0.31976372],\n",
       "          [ 0.31976372],\n",
       "          [ 0.31976372],\n",
       "          ..., \n",
       "          [ 0.31976372],\n",
       "          [ 0.31976372],\n",
       "          [ 0.31976372]],\n",
       "  \n",
       "         [[ 0.31976372],\n",
       "          [ 0.31976372],\n",
       "          [ 0.31976372],\n",
       "          ..., \n",
       "          [ 0.31976372],\n",
       "          [ 0.31976372],\n",
       "          [ 0.31976372]],\n",
       "  \n",
       "         [[ 0.31976372],\n",
       "          [ 0.31976372],\n",
       "          [ 0.31976372],\n",
       "          ..., \n",
       "          [ 0.31976372],\n",
       "          [ 0.31976372],\n",
       "          [ 0.31976372]],\n",
       "  \n",
       "         ..., \n",
       "         [[ 0.31976372],\n",
       "          [ 0.31976372],\n",
       "          [ 0.31976372],\n",
       "          ..., \n",
       "          [ 0.31976372],\n",
       "          [ 0.31976372],\n",
       "          [ 0.31976372]],\n",
       "  \n",
       "         [[ 0.31976372],\n",
       "          [ 0.31976372],\n",
       "          [ 0.31976372],\n",
       "          ..., \n",
       "          [ 0.31976372],\n",
       "          [ 0.31976372],\n",
       "          [ 0.31976372]],\n",
       "  \n",
       "         [[ 0.31976372],\n",
       "          [ 0.31976372],\n",
       "          [ 0.31976372],\n",
       "          ..., \n",
       "          [ 0.31976372],\n",
       "          [ 0.31976372],\n",
       "          [ 0.31976372]]]), array([[[ 0.],\n",
       "          [ 0.],\n",
       "          [ 0.],\n",
       "          ..., \n",
       "          [ 0.],\n",
       "          [ 0.],\n",
       "          [ 0.]],\n",
       "  \n",
       "         [[ 0.],\n",
       "          [ 0.],\n",
       "          [ 0.],\n",
       "          ..., \n",
       "          [ 0.],\n",
       "          [ 0.],\n",
       "          [ 0.]],\n",
       "  \n",
       "         [[ 0.],\n",
       "          [ 0.],\n",
       "          [ 0.],\n",
       "          ..., \n",
       "          [ 0.],\n",
       "          [ 0.],\n",
       "          [ 0.]],\n",
       "  \n",
       "         ..., \n",
       "         [[ 0.],\n",
       "          [ 0.],\n",
       "          [ 0.],\n",
       "          ..., \n",
       "          [ 0.],\n",
       "          [ 0.],\n",
       "          [ 0.]],\n",
       "  \n",
       "         [[ 0.],\n",
       "          [ 0.],\n",
       "          [ 0.],\n",
       "          ..., \n",
       "          [ 0.],\n",
       "          [ 0.],\n",
       "          [ 0.]],\n",
       "  \n",
       "         [[ 0.],\n",
       "          [ 0.],\n",
       "          [ 0.],\n",
       "          ..., \n",
       "          [ 0.],\n",
       "          [ 0.],\n",
       "          [ 0.]]]), <pandeia.engine.coords.IrregularGrid at 0x131da7eb8>),\n",
       " 'source_flux_in_fov': array([  1.03484194e-15,   1.03484194e-15,   1.03484194e-15, ...,\n",
       "         -6.14130207e-16,  -1.32071053e-15,   4.29067725e-16]),\n",
       " 'source_flux_in_fov_plus_bg': array([ 566.57223784,  566.57223784,  566.57223784, ...,  566.57223784,\n",
       "         566.57223784,  566.57223784]),\n",
       " 'warnings': {'no_sanity_check': \"No sanity checking implemented for SOSS: 'SOSS' object has no attribute '_sanity_checks'\"},\n",
       " 'wavelength': array([ 0.8309,  0.8318,  0.8328, ...,  2.8068,  2.8077,  2.8087])}"
      ]
     },
     "execution_count": 76,
     "metadata": {},
     "output_type": "execute_result"
    }
   ],
   "source": [
    "e = strategy.extract([s], [n])\n",
    "e"
   ]
  },
  {
   "cell_type": "code",
   "execution_count": 79,
   "metadata": {
    "collapsed": false
   },
   "outputs": [
    {
     "data": {
      "text/plain": [
       "[<matplotlib.lines.Line2D at 0x1122b04e0>]"
      ]
     },
     "execution_count": 79,
     "metadata": {},
     "output_type": "execute_result"
    },
    {
     "data": {
      "image/png": "[encoded data removed]",
      "text/plain": [
       "<matplotlib.figure.Figure at 0x11225bac8>"
      ]
     },
     "metadata": {},
     "output_type": "display_data"
    }
   ],
   "source": [
    "plt.plot(e['wavelength'], e['extracted_flux'])"
   ]
  },
  {
   "cell_type": "code",
   "execution_count": 18,
   "metadata": {
    "collapsed": false
   },
   "outputs": [],
   "source": [
    "from astropy.io import fits"
   ]
  },
  {
   "cell_type": "code",
   "execution_count": 41,
   "metadata": {
    "collapsed": false
   },
   "outputs": [],
   "source": [
    "fits.writeto(\"blah.fits\", s.rate_plus_bg)"
   ]
  },
  {
   "cell_type": "code",
   "execution_count": 17,
   "metadata": {
    "collapsed": false
   },
   "outputs": [],
   "source": [
    "new_wave_pix = Table.read(\"/Users/pickering/STScI/smite/pandeia_data/devtools/delivered/niriss/lambda_solution.txt\", format='ascii.basic')"
   ]
  },
  {
   "cell_type": "code",
   "execution_count": 18,
   "metadata": {
    "collapsed": false
   },
   "outputs": [
    {
     "data": {
      "text/html": [
       "&lt;Table length=2048&gt;\n",
       "<table id=\"table4618496096\">\n",
       "<thead><tr><th>ypixel</th><th>lambda_order1_nm</th><th>lambda_order2_nm</th><th>lambda_order3_nm</th></tr></thead>\n",
       "<thead><tr><th>int64</th><th>float64</th><th>float64</th><th>float64</th></tr></thead>\n",
       "<tr><td>0</td><td>827.0</td><td>0.0</td><td>0.0</td></tr>\n",
       "<tr><td>1</td><td>828.0</td><td>0.0</td><td>0.0</td></tr>\n",
       "<tr><td>2</td><td>828.9</td><td>0.0</td><td>0.0</td></tr>\n",
       "<tr><td>3</td><td>829.9</td><td>0.0</td><td>0.0</td></tr>\n",
       "<tr><td>4</td><td>830.9</td><td>0.0</td><td>0.0</td></tr>\n",
       "<tr><td>5</td><td>831.8</td><td>0.0</td><td>0.0</td></tr>\n",
       "<tr><td>6</td><td>832.8</td><td>0.0</td><td>0.0</td></tr>\n",
       "<tr><td>7</td><td>833.8</td><td>0.0</td><td>0.0</td></tr>\n",
       "<tr><td>8</td><td>834.8</td><td>0.0</td><td>0.0</td></tr>\n",
       "<tr><td>9</td><td>835.7</td><td>0.0</td><td>0.0</td></tr>\n",
       "<tr><td>...</td><td>...</td><td>...</td><td>...</td></tr>\n",
       "<tr><td>2038</td><td>2803.9</td><td>0.0</td><td>959.2</td></tr>\n",
       "<tr><td>2039</td><td>2804.8</td><td>0.0</td><td>959.5</td></tr>\n",
       "<tr><td>2040</td><td>2805.8</td><td>0.0</td><td>959.8</td></tr>\n",
       "<tr><td>2041</td><td>2806.8</td><td>0.0</td><td>960.1</td></tr>\n",
       "<tr><td>2042</td><td>2807.7</td><td>0.0</td><td>960.4</td></tr>\n",
       "<tr><td>2043</td><td>2808.7</td><td>0.0</td><td>960.8</td></tr>\n",
       "<tr><td>2044</td><td>2809.7</td><td>0.0</td><td>961.1</td></tr>\n",
       "<tr><td>2045</td><td>2810.6</td><td>0.0</td><td>961.4</td></tr>\n",
       "<tr><td>2046</td><td>2811.6</td><td>0.0</td><td>0.0</td></tr>\n",
       "<tr><td>2047</td><td>2812.6</td><td>0.0</td><td>0.0</td></tr>\n",
       "</table>"
      ],
      "text/plain": [
       "<Table length=2048>\n",
       "ypixel lambda_order1_nm lambda_order2_nm lambda_order3_nm\n",
       "int64      float64          float64          float64     \n",
       "------ ---------------- ---------------- ----------------\n",
       "     0            827.0              0.0              0.0\n",
       "     1            828.0              0.0              0.0\n",
       "     2            828.9              0.0              0.0\n",
       "     3            829.9              0.0              0.0\n",
       "     4            830.9              0.0              0.0\n",
       "     5            831.8              0.0              0.0\n",
       "     6            832.8              0.0              0.0\n",
       "     7            833.8              0.0              0.0\n",
       "     8            834.8              0.0              0.0\n",
       "     9            835.7              0.0              0.0\n",
       "   ...              ...              ...              ...\n",
       "  2038           2803.9              0.0            959.2\n",
       "  2039           2804.8              0.0            959.5\n",
       "  2040           2805.8              0.0            959.8\n",
       "  2041           2806.8              0.0            960.1\n",
       "  2042           2807.7              0.0            960.4\n",
       "  2043           2808.7              0.0            960.8\n",
       "  2044           2809.7              0.0            961.1\n",
       "  2045           2810.6              0.0            961.4\n",
       "  2046           2811.6              0.0              0.0\n",
       "  2047           2812.6              0.0              0.0"
      ]
     },
     "execution_count": 18,
     "metadata": {},
     "output_type": "execute_result"
    }
   ],
   "source": [
    "new_wave_pix"
   ]
  },
  {
   "cell_type": "code",
   "execution_count": 19,
   "metadata": {
    "collapsed": true
   },
   "outputs": [],
   "source": [
    "from astropy.io import fits"
   ]
  },
  {
   "cell_type": "code",
   "execution_count": 20,
   "metadata": {
    "collapsed": true
   },
   "outputs": [],
   "source": [
    "mask_1 = fits.open(\"/Users/pickering/STScI/smite/pandeia_data/devtools/delivered/niriss/mask_order1_35pixels.fits\")[0].data\n",
    "mask_2 = fits.open(\"/Users/pickering/STScI/smite/pandeia_data/devtools/delivered/niriss/mask_order2_35pixels.fits\")[0].data\n",
    "mask_3 = fits.open(\"/Users/pickering/STScI/smite/pandeia_data/devtools/delivered/niriss/mask_order3_35pixels.fits\")[0].data"
   ]
  },
  {
   "cell_type": "code",
   "execution_count": 21,
   "metadata": {
    "collapsed": false
   },
   "outputs": [
    {
     "data": {
      "text/plain": [
       "(2048, 256)"
      ]
     },
     "execution_count": 21,
     "metadata": {},
     "output_type": "execute_result"
    }
   ],
   "source": [
    "mask_1.shape"
   ]
  },
  {
   "cell_type": "code",
   "execution_count": 22,
   "metadata": {
    "collapsed": false
   },
   "outputs": [
    {
     "data": {
      "text/plain": [
       "<matplotlib.image.AxesImage at 0x114659550>"
      ]
     },
     "execution_count": 22,
     "metadata": {},
     "output_type": "execute_result"
    },
    {
     "data": {
      "image/png": "[encoded data removed]",
      "text/plain": [
       "<matplotlib.figure.Figure at 0x1132577f0>"
      ]
     },
     "metadata": {},
     "output_type": "display_data"
    }
   ],
   "source": [
    "plt.imshow(mask_3)"
   ]
  },
  {
   "cell_type": "code",
   "execution_count": 23,
   "metadata": {
    "collapsed": false
   },
   "outputs": [
    {
     "name": "stderr",
     "output_type": "stream",
     "text": [
      "/Users/pickering/miniconda3/lib/python3.4/site-packages/numpy/core/_methods.py:59: RuntimeWarning: Mean of empty slice.\n",
      "  warnings.warn(\"Mean of empty slice.\", RuntimeWarning)\n",
      "/Users/pickering/miniconda3/lib/python3.4/site-packages/numpy/core/_methods.py:70: RuntimeWarning: invalid value encountered in double_scalars\n",
      "  ret = ret.dtype.type(ret / rcount)\n"
     ]
    }
   ],
   "source": [
    "pos_1 = []\n",
    "pos_2 = []\n",
    "pos_3 = []\n",
    "for i in new_wave_pix['ypixel']:\n",
    "    row_1 = mask_1[i, :]\n",
    "    row_2 = mask_2[i, :]\n",
    "    row_3 = mask_3[i, :]\n",
    "    nx = len(row_1)\n",
    "    pos_1.append( (row_1 * np.arange(nx))[row_1 > 0].mean() )\n",
    "    pos_2.append( (row_2 * np.arange(nx))[row_2 > 0].mean() )\n",
    "    pos_3.append( (row_3 * np.arange(nx))[row_3 > 0].mean() )\n",
    "pos_1 = np.array(pos_1)\n",
    "pos_2 = np.array(pos_2)\n",
    "pos_3 = np.array(pos_3)"
   ]
  },
  {
   "cell_type": "code",
   "execution_count": 24,
   "metadata": {
    "collapsed": false
   },
   "outputs": [
    {
     "data": {
      "text/plain": [
       "[<matplotlib.lines.Line2D at 0x11531cfd0>]"
      ]
     },
     "execution_count": 24,
     "metadata": {},
     "output_type": "execute_result"
    },
    {
     "data": {
      "image/png": "[encoded data removed]",
      "text/plain": [
       "<matplotlib.figure.Figure at 0x10c0e5a58>"
      ]
     },
     "metadata": {},
     "output_type": "display_data"
    }
   ],
   "source": [
    "plt.plot(pos_1)\n",
    "plt.plot(pos_2)\n",
    "plt.plot(pos_3)"
   ]
  },
  {
   "cell_type": "code",
   "execution_count": 25,
   "metadata": {
    "collapsed": false
   },
   "outputs": [
    {
     "data": {
      "text/plain": [
       "2048"
      ]
     },
     "execution_count": 25,
     "metadata": {},
     "output_type": "execute_result"
    }
   ],
   "source": [
    "len(pos_3)"
   ]
  },
  {
   "cell_type": "code",
   "execution_count": 26,
   "metadata": {
    "collapsed": true
   },
   "outputs": [],
   "source": [
    "new_wave_pix['tracex_order1'] = pos_1\n",
    "new_wave_pix['tracex_order2'] = pos_2\n",
    "new_wave_pix['tracex_order3'] = pos_3"
   ]
  },
  {
   "cell_type": "code",
   "execution_count": 27,
   "metadata": {
    "collapsed": false
   },
   "outputs": [
    {
     "data": {
      "text/html": [
       "&lt;Table length=2048&gt;\n",
       "<table id=\"table4618496096\">\n",
       "<thead><tr><th>ypixel</th><th>lambda_order1_nm</th><th>lambda_order2_nm</th><th>lambda_order3_nm</th><th>tracex_order1</th><th>tracex_order2</th><th>tracex_order3</th></tr></thead>\n",
       "<thead><tr><th>int64</th><th>float64</th><th>float64</th><th>float64</th><th>float64</th><th>float64</th><th>float64</th></tr></thead>\n",
       "<tr><td>0</td><td>827.0</td><td>0.0</td><td>0.0</td><td>nan</td><td>nan</td><td>nan</td></tr>\n",
       "<tr><td>1</td><td>828.0</td><td>0.0</td><td>0.0</td><td>nan</td><td>nan</td><td>nan</td></tr>\n",
       "<tr><td>2</td><td>828.9</td><td>0.0</td><td>0.0</td><td>nan</td><td>nan</td><td>nan</td></tr>\n",
       "<tr><td>3</td><td>829.9</td><td>0.0</td><td>0.0</td><td>nan</td><td>nan</td><td>nan</td></tr>\n",
       "<tr><td>4</td><td>830.9</td><td>0.0</td><td>0.0</td><td>179.0</td><td>nan</td><td>nan</td></tr>\n",
       "<tr><td>5</td><td>831.8</td><td>0.0</td><td>0.0</td><td>179.0</td><td>nan</td><td>nan</td></tr>\n",
       "<tr><td>6</td><td>832.8</td><td>0.0</td><td>0.0</td><td>179.0</td><td>nan</td><td>nan</td></tr>\n",
       "<tr><td>7</td><td>833.8</td><td>0.0</td><td>0.0</td><td>180.0</td><td>nan</td><td>nan</td></tr>\n",
       "<tr><td>8</td><td>834.8</td><td>0.0</td><td>0.0</td><td>180.0</td><td>nan</td><td>nan</td></tr>\n",
       "<tr><td>9</td><td>835.7</td><td>0.0</td><td>0.0</td><td>180.0</td><td>nan</td><td>nan</td></tr>\n",
       "<tr><td>...</td><td>...</td><td>...</td><td>...</td><td>...</td><td>...</td><td>...</td></tr>\n",
       "<tr><td>2038</td><td>2803.9</td><td>0.0</td><td>959.2</td><td>165.0</td><td>nan</td><td>109.0</td></tr>\n",
       "<tr><td>2039</td><td>2804.8</td><td>0.0</td><td>959.5</td><td>165.0</td><td>nan</td><td>109.0</td></tr>\n",
       "<tr><td>2040</td><td>2805.8</td><td>0.0</td><td>959.8</td><td>165.0</td><td>nan</td><td>109.0</td></tr>\n",
       "<tr><td>2041</td><td>2806.8</td><td>0.0</td><td>960.1</td><td>165.0</td><td>nan</td><td>109.0</td></tr>\n",
       "<tr><td>2042</td><td>2807.7</td><td>0.0</td><td>960.4</td><td>165.0</td><td>nan</td><td>109.0</td></tr>\n",
       "<tr><td>2043</td><td>2808.7</td><td>0.0</td><td>960.8</td><td>165.0</td><td>nan</td><td>109.0</td></tr>\n",
       "<tr><td>2044</td><td>2809.7</td><td>0.0</td><td>961.1</td><td>nan</td><td>nan</td><td>109.0</td></tr>\n",
       "<tr><td>2045</td><td>2810.6</td><td>0.0</td><td>961.4</td><td>nan</td><td>nan</td><td>109.0</td></tr>\n",
       "<tr><td>2046</td><td>2811.6</td><td>0.0</td><td>0.0</td><td>nan</td><td>nan</td><td>nan</td></tr>\n",
       "<tr><td>2047</td><td>2812.6</td><td>0.0</td><td>0.0</td><td>nan</td><td>nan</td><td>nan</td></tr>\n",
       "</table>"
      ],
      "text/plain": [
       "<Table length=2048>\n",
       "ypixel lambda_order1_nm lambda_order2_nm ... tracex_order2 tracex_order3\n",
       "int64      float64          float64      ...    float64       float64   \n",
       "------ ---------------- ---------------- ... ------------- -------------\n",
       "     0            827.0              0.0 ...           nan           nan\n",
       "     1            828.0              0.0 ...           nan           nan\n",
       "     2            828.9              0.0 ...           nan           nan\n",
       "     3            829.9              0.0 ...           nan           nan\n",
       "     4            830.9              0.0 ...           nan           nan\n",
       "     5            831.8              0.0 ...           nan           nan\n",
       "     6            832.8              0.0 ...           nan           nan\n",
       "     7            833.8              0.0 ...           nan           nan\n",
       "     8            834.8              0.0 ...           nan           nan\n",
       "     9            835.7              0.0 ...           nan           nan\n",
       "   ...              ...              ... ...           ...           ...\n",
       "  2038           2803.9              0.0 ...           nan         109.0\n",
       "  2039           2804.8              0.0 ...           nan         109.0\n",
       "  2040           2805.8              0.0 ...           nan         109.0\n",
       "  2041           2806.8              0.0 ...           nan         109.0\n",
       "  2042           2807.7              0.0 ...           nan         109.0\n",
       "  2043           2808.7              0.0 ...           nan         109.0\n",
       "  2044           2809.7              0.0 ...           nan         109.0\n",
       "  2045           2810.6              0.0 ...           nan         109.0\n",
       "  2046           2811.6              0.0 ...           nan           nan\n",
       "  2047           2812.6              0.0 ...           nan           nan"
      ]
     },
     "execution_count": 27,
     "metadata": {},
     "output_type": "execute_result"
    }
   ],
   "source": [
    "new_wave_pix"
   ]
  },
  {
   "cell_type": "code",
   "execution_count": 28,
   "metadata": {
    "collapsed": true
   },
   "outputs": [],
   "source": [
    "new_wave_pix.write(\"gr700xd_trace.fits\")"
   ]
  },
  {
   "cell_type": "code",
   "execution_count": 29,
   "metadata": {
    "collapsed": false
   },
   "outputs": [],
   "source": [
    "trace = Table(new_wave_pix, masked=True)"
   ]
  },
  {
   "cell_type": "code",
   "execution_count": 30,
   "metadata": {
    "collapsed": false
   },
   "outputs": [
    {
     "data": {
      "text/html": [
       "&lt;Table masked=True length=2048&gt;\n",
       "<table id=\"table4631747048\">\n",
       "<thead><tr><th>ypixel</th><th>lambda_order1_nm</th><th>lambda_order2_nm</th><th>lambda_order3_nm</th><th>tracex_order1</th><th>tracex_order2</th><th>tracex_order3</th></tr></thead>\n",
       "<thead><tr><th>int64</th><th>float64</th><th>float64</th><th>float64</th><th>float64</th><th>float64</th><th>float64</th></tr></thead>\n",
       "<tr><td>0</td><td>827.0</td><td>0.0</td><td>0.0</td><td>nan</td><td>nan</td><td>nan</td></tr>\n",
       "<tr><td>1</td><td>828.0</td><td>0.0</td><td>0.0</td><td>nan</td><td>nan</td><td>nan</td></tr>\n",
       "<tr><td>2</td><td>828.9</td><td>0.0</td><td>0.0</td><td>nan</td><td>nan</td><td>nan</td></tr>\n",
       "<tr><td>3</td><td>829.9</td><td>0.0</td><td>0.0</td><td>nan</td><td>nan</td><td>nan</td></tr>\n",
       "<tr><td>4</td><td>830.9</td><td>0.0</td><td>0.0</td><td>179.0</td><td>nan</td><td>nan</td></tr>\n",
       "<tr><td>5</td><td>831.8</td><td>0.0</td><td>0.0</td><td>179.0</td><td>nan</td><td>nan</td></tr>\n",
       "<tr><td>6</td><td>832.8</td><td>0.0</td><td>0.0</td><td>179.0</td><td>nan</td><td>nan</td></tr>\n",
       "<tr><td>7</td><td>833.8</td><td>0.0</td><td>0.0</td><td>180.0</td><td>nan</td><td>nan</td></tr>\n",
       "<tr><td>8</td><td>834.8</td><td>0.0</td><td>0.0</td><td>180.0</td><td>nan</td><td>nan</td></tr>\n",
       "<tr><td>9</td><td>835.7</td><td>0.0</td><td>0.0</td><td>180.0</td><td>nan</td><td>nan</td></tr>\n",
       "<tr><td>...</td><td>...</td><td>...</td><td>...</td><td>...</td><td>...</td><td>...</td></tr>\n",
       "<tr><td>2038</td><td>2803.9</td><td>0.0</td><td>959.2</td><td>165.0</td><td>nan</td><td>109.0</td></tr>\n",
       "<tr><td>2039</td><td>2804.8</td><td>0.0</td><td>959.5</td><td>165.0</td><td>nan</td><td>109.0</td></tr>\n",
       "<tr><td>2040</td><td>2805.8</td><td>0.0</td><td>959.8</td><td>165.0</td><td>nan</td><td>109.0</td></tr>\n",
       "<tr><td>2041</td><td>2806.8</td><td>0.0</td><td>960.1</td><td>165.0</td><td>nan</td><td>109.0</td></tr>\n",
       "<tr><td>2042</td><td>2807.7</td><td>0.0</td><td>960.4</td><td>165.0</td><td>nan</td><td>109.0</td></tr>\n",
       "<tr><td>2043</td><td>2808.7</td><td>0.0</td><td>960.8</td><td>165.0</td><td>nan</td><td>109.0</td></tr>\n",
       "<tr><td>2044</td><td>2809.7</td><td>0.0</td><td>961.1</td><td>nan</td><td>nan</td><td>109.0</td></tr>\n",
       "<tr><td>2045</td><td>2810.6</td><td>0.0</td><td>961.4</td><td>nan</td><td>nan</td><td>109.0</td></tr>\n",
       "<tr><td>2046</td><td>2811.6</td><td>0.0</td><td>0.0</td><td>nan</td><td>nan</td><td>nan</td></tr>\n",
       "<tr><td>2047</td><td>2812.6</td><td>0.0</td><td>0.0</td><td>nan</td><td>nan</td><td>nan</td></tr>\n",
       "</table>"
      ],
      "text/plain": [
       "<Table masked=True length=2048>\n",
       "ypixel lambda_order1_nm lambda_order2_nm ... tracex_order2 tracex_order3\n",
       "int64      float64          float64      ...    float64       float64   \n",
       "------ ---------------- ---------------- ... ------------- -------------\n",
       "     0            827.0              0.0 ...           nan           nan\n",
       "     1            828.0              0.0 ...           nan           nan\n",
       "     2            828.9              0.0 ...           nan           nan\n",
       "     3            829.9              0.0 ...           nan           nan\n",
       "     4            830.9              0.0 ...           nan           nan\n",
       "     5            831.8              0.0 ...           nan           nan\n",
       "     6            832.8              0.0 ...           nan           nan\n",
       "     7            833.8              0.0 ...           nan           nan\n",
       "     8            834.8              0.0 ...           nan           nan\n",
       "     9            835.7              0.0 ...           nan           nan\n",
       "   ...              ...              ... ...           ...           ...\n",
       "  2038           2803.9              0.0 ...           nan         109.0\n",
       "  2039           2804.8              0.0 ...           nan         109.0\n",
       "  2040           2805.8              0.0 ...           nan         109.0\n",
       "  2041           2806.8              0.0 ...           nan         109.0\n",
       "  2042           2807.7              0.0 ...           nan         109.0\n",
       "  2043           2808.7              0.0 ...           nan         109.0\n",
       "  2044           2809.7              0.0 ...           nan         109.0\n",
       "  2045           2810.6              0.0 ...           nan         109.0\n",
       "  2046           2811.6              0.0 ...           nan           nan\n",
       "  2047           2812.6              0.0 ...           nan           nan"
      ]
     },
     "execution_count": 30,
     "metadata": {},
     "output_type": "execute_result"
    }
   ],
   "source": [
    "trace"
   ]
  },
  {
   "cell_type": "code",
   "execution_count": 31,
   "metadata": {
    "collapsed": false
   },
   "outputs": [
    {
     "name": "stderr",
     "output_type": "stream",
     "text": [
      "/Users/pickering/miniconda3/lib/python3.4/site-packages/ipykernel/__main__.py:1: RuntimeWarning: invalid value encountered in greater\n",
      "  if __name__ == '__main__':\n",
      "/Users/pickering/miniconda3/lib/python3.4/site-packages/ipykernel/__main__.py:2: RuntimeWarning: invalid value encountered in greater\n",
      "  from ipykernel import kernelapp as app\n",
      "/Users/pickering/miniconda3/lib/python3.4/site-packages/ipykernel/__main__.py:3: RuntimeWarning: invalid value encountered in greater\n",
      "  app.launch_new_instance()\n"
     ]
    }
   ],
   "source": [
    "m1 = pos_1 > 0\n",
    "m2 = pos_2 > 0\n",
    "m3 = pos_3 > 0"
   ]
  },
  {
   "cell_type": "code",
   "execution_count": 32,
   "metadata": {
    "collapsed": false
   },
   "outputs": [],
   "source": [
    "trace['lambda_order1_nm'].mask = np.logical_not(m1)\n",
    "trace['lambda_order1_nm'] /= 1000.0\n",
    "trace.rename_column('lambda_order1_nm', 'wavelength_order1')\n",
    "trace['tracex_order1'].mask = np.logical_not(m1)\n",
    "trace['lambda_order2_nm'].mask = np.logical_not(m2)\n",
    "trace['lambda_order2_nm'] /= 1000.0\n",
    "trace.rename_column('lambda_order2_nm', 'wavelength_order2')\n",
    "trace['tracex_order2'].mask = np.logical_not(m2)\n",
    "trace['lambda_order3_nm'].mask = np.logical_not(m3)\n",
    "trace['lambda_order3_nm'] /= 1000.0\n",
    "trace.rename_column('lambda_order3_nm', 'wavelength_order3')\n",
    "trace['tracex_order3'].mask = np.logical_not(m3)"
   ]
  },
  {
   "cell_type": "code",
   "execution_count": 33,
   "metadata": {
    "collapsed": false
   },
   "outputs": [],
   "source": [
    "dlds_1 = np.diff(trace['wavelength_order1'])\n",
    "dlds_2 = np.diff(trace['wavelength_order2'])\n",
    "dlds_3 = np.diff(trace['wavelength_order3'])"
   ]
  },
  {
   "cell_type": "code",
   "execution_count": 34,
   "metadata": {
    "collapsed": false
   },
   "outputs": [],
   "source": [
    "wave_start1 = trace['wavelength_order1'].argmin()\n",
    "wave_start2 = trace['wavelength_order2'].argmin()\n",
    "wave_start3 = trace['wavelength_order3'].argmin()"
   ]
  },
  {
   "cell_type": "code",
   "execution_count": 35,
   "metadata": {
    "collapsed": false
   },
   "outputs": [],
   "source": [
    "trace['dlds_order1'] = dlds_1.insert(wave_start1, dlds_1[wave_start1])\n",
    "trace['dlds_order2'] = dlds_2.insert(wave_start2, dlds_2[wave_start2])\n",
    "trace['dlds_order3'] = dlds_3.insert(wave_start3, dlds_3[wave_start3])"
   ]
  },
  {
   "cell_type": "code",
   "execution_count": 36,
   "metadata": {
    "collapsed": false
   },
   "outputs": [],
   "source": [
    "trace['R_order1'] = trace['wavelength_order1'] / (2.0 * trace['dlds_order1'])\n",
    "trace['R_order2'] = trace['wavelength_order2'] / (2.0 * trace['dlds_order2'])\n",
    "trace['R_order3'] = trace['wavelength_order3'] / (2.0 * trace['dlds_order3'])"
   ]
  },
  {
   "cell_type": "code",
   "execution_count": 37,
   "metadata": {
    "collapsed": false
   },
   "outputs": [
    {
     "data": {
      "text/html": [
       "&lt;Table masked=True length=2048&gt;\n",
       "<table id=\"table4631747048\">\n",
       "<thead><tr><th>ypixel</th><th>wavelength_order1</th><th>wavelength_order2</th><th>wavelength_order3</th><th>tracex_order1</th><th>tracex_order2</th><th>tracex_order3</th><th>dlds_order1</th><th>dlds_order2</th><th>dlds_order3</th><th>R_order1</th><th>R_order2</th><th>R_order3</th></tr></thead>\n",
       "<thead><tr><th>int64</th><th>float64</th><th>float64</th><th>float64</th><th>float64</th><th>float64</th><th>float64</th><th>float64</th><th>float64</th><th>float64</th><th>float64</th><th>float64</th><th>float64</th></tr></thead>\n",
       "<tr><td>0</td><td>--</td><td>--</td><td>--</td><td>--</td><td>--</td><td>--</td><td>--</td><td>--</td><td>--</td><td>--</td><td>--</td><td>--</td></tr>\n",
       "<tr><td>1</td><td>--</td><td>--</td><td>--</td><td>--</td><td>--</td><td>--</td><td>--</td><td>--</td><td>--</td><td>--</td><td>--</td><td>--</td></tr>\n",
       "<tr><td>2</td><td>--</td><td>--</td><td>--</td><td>--</td><td>--</td><td>--</td><td>--</td><td>--</td><td>--</td><td>--</td><td>--</td><td>--</td></tr>\n",
       "<tr><td>3</td><td>--</td><td>--</td><td>--</td><td>--</td><td>--</td><td>--</td><td>--</td><td>--</td><td>--</td><td>--</td><td>--</td><td>--</td></tr>\n",
       "<tr><td>4</td><td>0.8309</td><td>--</td><td>--</td><td>179.0</td><td>--</td><td>--</td><td>0.0009</td><td>--</td><td>--</td><td>461.611111111</td><td>--</td><td>--</td></tr>\n",
       "<tr><td>5</td><td>0.8318</td><td>--</td><td>--</td><td>179.0</td><td>--</td><td>--</td><td>0.0009</td><td>--</td><td>--</td><td>462.111111111</td><td>--</td><td>--</td></tr>\n",
       "<tr><td>6</td><td>0.8328</td><td>--</td><td>--</td><td>179.0</td><td>--</td><td>--</td><td>0.001</td><td>--</td><td>--</td><td>416.4</td><td>--</td><td>--</td></tr>\n",
       "<tr><td>7</td><td>0.8338</td><td>--</td><td>--</td><td>180.0</td><td>--</td><td>--</td><td>0.001</td><td>--</td><td>--</td><td>416.9</td><td>--</td><td>--</td></tr>\n",
       "<tr><td>8</td><td>0.8348</td><td>--</td><td>--</td><td>180.0</td><td>--</td><td>--</td><td>0.001</td><td>--</td><td>--</td><td>417.4</td><td>--</td><td>--</td></tr>\n",
       "<tr><td>9</td><td>0.8357</td><td>--</td><td>--</td><td>180.0</td><td>--</td><td>--</td><td>0.0009</td><td>--</td><td>--</td><td>464.277777778</td><td>--</td><td>--</td></tr>\n",
       "<tr><td>...</td><td>...</td><td>...</td><td>...</td><td>...</td><td>...</td><td>...</td><td>...</td><td>...</td><td>...</td><td>...</td><td>...</td><td>...</td></tr>\n",
       "<tr><td>2038</td><td>2.8039</td><td>--</td><td>0.9592</td><td>165.0</td><td>--</td><td>109.0</td><td>0.001</td><td>--</td><td>0.0004</td><td>1401.95</td><td>--</td><td>1199.0</td></tr>\n",
       "<tr><td>2039</td><td>2.8048</td><td>--</td><td>0.9595</td><td>165.0</td><td>--</td><td>109.0</td><td>0.0009</td><td>--</td><td>0.0003</td><td>1558.22222222</td><td>--</td><td>1599.16666667</td></tr>\n",
       "<tr><td>2040</td><td>2.8058</td><td>--</td><td>0.9598</td><td>165.0</td><td>--</td><td>109.0</td><td>0.001</td><td>--</td><td>0.0003</td><td>1402.9</td><td>--</td><td>1599.66666667</td></tr>\n",
       "<tr><td>2041</td><td>2.8068</td><td>--</td><td>0.9601</td><td>165.0</td><td>--</td><td>109.0</td><td>0.001</td><td>--</td><td>0.0003</td><td>1403.4</td><td>--</td><td>1600.16666667</td></tr>\n",
       "<tr><td>2042</td><td>2.8077</td><td>--</td><td>0.9604</td><td>165.0</td><td>--</td><td>109.0</td><td>0.0009</td><td>--</td><td>0.0003</td><td>1559.83333333</td><td>--</td><td>1600.66666667</td></tr>\n",
       "<tr><td>2043</td><td>2.8087</td><td>--</td><td>0.9608</td><td>165.0</td><td>--</td><td>109.0</td><td>0.001</td><td>--</td><td>0.0004</td><td>1404.35</td><td>--</td><td>1201.0</td></tr>\n",
       "<tr><td>2044</td><td>--</td><td>--</td><td>0.9611</td><td>--</td><td>--</td><td>109.0</td><td>--</td><td>--</td><td>0.0003</td><td>--</td><td>--</td><td>1601.83333333</td></tr>\n",
       "<tr><td>2045</td><td>--</td><td>--</td><td>0.9614</td><td>--</td><td>--</td><td>109.0</td><td>--</td><td>--</td><td>0.0003</td><td>--</td><td>--</td><td>1602.33333333</td></tr>\n",
       "<tr><td>2046</td><td>--</td><td>--</td><td>--</td><td>--</td><td>--</td><td>--</td><td>--</td><td>--</td><td>--</td><td>--</td><td>--</td><td>--</td></tr>\n",
       "<tr><td>2047</td><td>--</td><td>--</td><td>--</td><td>--</td><td>--</td><td>--</td><td>--</td><td>--</td><td>--</td><td>--</td><td>--</td><td>--</td></tr>\n",
       "</table>"
      ],
      "text/plain": [
       "<Table masked=True length=2048>\n",
       "ypixel wavelength_order1 wavelength_order2 ... R_order2    R_order3  \n",
       "int64       float64           float64      ... float64     float64   \n",
       "------ ----------------- ----------------- ... -------- -------------\n",
       "     0                --                -- ...       --            --\n",
       "     1                --                -- ...       --            --\n",
       "     2                --                -- ...       --            --\n",
       "     3                --                -- ...       --            --\n",
       "     4            0.8309                -- ...       --            --\n",
       "     5            0.8318                -- ...       --            --\n",
       "     6            0.8328                -- ...       --            --\n",
       "     7            0.8338                -- ...       --            --\n",
       "     8            0.8348                -- ...       --            --\n",
       "     9            0.8357                -- ...       --            --\n",
       "   ...               ...               ... ...      ...           ...\n",
       "  2038            2.8039                -- ...       --        1199.0\n",
       "  2039            2.8048                -- ...       -- 1599.16666667\n",
       "  2040            2.8058                -- ...       -- 1599.66666667\n",
       "  2041            2.8068                -- ...       -- 1600.16666667\n",
       "  2042            2.8077                -- ...       -- 1600.66666667\n",
       "  2043            2.8087                -- ...       --        1201.0\n",
       "  2044                --                -- ...       -- 1601.83333333\n",
       "  2045                --                -- ...       -- 1602.33333333\n",
       "  2046                --                -- ...       --            --\n",
       "  2047                --                -- ...       --            --"
      ]
     },
     "execution_count": 37,
     "metadata": {},
     "output_type": "execute_result"
    }
   ],
   "source": [
    "trace"
   ]
  },
  {
   "cell_type": "code",
   "execution_count": 38,
   "metadata": {
    "collapsed": false
   },
   "outputs": [],
   "source": [
    "trace.write(\"gr700xd.fits\", overwrite=True)"
   ]
  },
  {
   "cell_type": "code",
   "execution_count": 71,
   "metadata": {
    "collapsed": false
   },
   "outputs": [],
   "source": [
    "order1 = Table()\n",
    "order2 = Table()\n",
    "order3 = Table()\n",
    "w1 = trace['wavelength_order1']\n",
    "w2 = trace['wavelength_order2']\n",
    "w3 = trace['wavelength_order3']\n",
    "index1 = np.where(w1.mask == False)\n",
    "index2 = np.where(w2.mask == False)\n",
    "index3 = np.where(w3.mask == False)\n",
    "w1 = w1[index1]\n",
    "w2 = w2[index2]\n",
    "w3 = w3[index3]\n",
    "d1 = trace['dlds_order1'][index1]\n",
    "d2 = trace['dlds_order2'][index2]\n",
    "d3 = trace['dlds_order3'][index3]\n",
    "r1 = trace['R_order1'][index1]\n",
    "r2 = trace['R_order2'][index2]\n",
    "r3 = trace['R_order3'][index3]\n",
    "p1 = trace['ypixel'][index1]\n",
    "p2 = trace['ypixel'][index2]\n",
    "p3 = trace['ypixel'][index3]"
   ]
  },
  {
   "cell_type": "code",
   "execution_count": 72,
   "metadata": {
    "collapsed": true
   },
   "outputs": [],
   "source": [
    "order1['pixels'] = p1\n",
    "order2['pixels'] = p2\n",
    "order3['pixels'] = p3\n",
    "order1['wavelength'] = w1\n",
    "order2['wavelength'] = w2\n",
    "order3['wavelength'] = w3\n",
    "order1['dlds'] = d1\n",
    "order2['dlds'] = d2\n",
    "order3['dlds'] = d3\n",
    "order1['R'] = r1\n",
    "order2['R'] = r2\n",
    "order3['R'] = r3\n",
    "order1.write(\"gr700xd_1_disp.fits\")\n",
    "order2.write(\"gr700xd_2_disp.fits\")\n",
    "order3.write(\"gr700xd_3_disp.fits\")"
   ]
  },
  {
   "cell_type": "code",
   "execution_count": 83,
   "metadata": {
    "collapsed": false
   },
   "outputs": [],
   "source": [
    "soss_im = s.rate"
   ]
  },
  {
   "cell_type": "code",
   "execution_count": 124,
   "metadata": {
    "collapsed": true
   },
   "outputs": [],
   "source": [
    "from scipy.ndimage.interpolation import geometric_transform, shift\n",
    "from astropy.modeling import models, fitting"
   ]
  },
  {
   "cell_type": "code",
   "execution_count": 116,
   "metadata": {
    "collapsed": true
   },
   "outputs": [],
   "source": [
    "def xshift(out_coo, shifts):\n",
    "    xs = shifts - 128.5\n",
    "    return (out_coo[0], out_coo[1] - xs[out_coo[0]])"
   ]
  },
  {
   "cell_type": "code",
   "execution_count": 167,
   "metadata": {
    "collapsed": false
   },
   "outputs": [
    {
     "name": "stderr",
     "output_type": "stream",
     "text": [
      "WARNING: Model is linear in parameters; consider using linear fitting methods. [astropy.modeling.fitting]\n",
      "WARNING:astropy:Model is linear in parameters; consider using linear fitting methods.\n"
     ]
    }
   ],
   "source": [
    "dx1 = trace['tracex_order1'][index1].data.data\n",
    "dx2 = trace['tracex_order2'][index2].data.data\n",
    "dx3 = trace['tracex_order3'][index3].data.data\n",
    "fitter = fitting.LevMarLSQFitter()\n",
    "trace_fit1 = fitter(models.Polynomial1D(6), p1, dx1)\n",
    "trace_fit2 = fitter(models.Polynomial1D(6), p2, dx2)\n",
    "trace_fit3 = fitter(models.Polynomial1D(6), p3, dx3)\n",
    "diff = trace_fit(p1) - dx\n",
    "#plt.plot(p1, diff)\n",
    "dx_fit = trace_fit3(p3)\n",
    "order1['trace'] = trace_fit1(p1) - 127.5\n",
    "order2['trace'] = trace_fit2(p2) - 127.5\n",
    "order3['trace'] = trace_fit3(p3) - 127.5\n",
    "order1.write(\"gr700xd_1_disp.fits\")\n",
    "order2.write(\"gr700xd_2_disp.fits\")\n",
    "order3.write(\"gr700xd_3_disp.fits\")"
   ]
  },
  {
   "cell_type": "code",
   "execution_count": 97,
   "metadata": {
    "collapsed": false
   },
   "outputs": [],
   "source": [
    "soss_trim = soss_im[128:-129, :]"
   ]
  },
  {
   "cell_type": "code",
   "execution_count": 160,
   "metadata": {
    "collapsed": false
   },
   "outputs": [
    {
     "data": {
      "text/plain": [
       "7082.2468844472696"
      ]
     },
     "execution_count": 160,
     "metadata": {},
     "output_type": "execute_result"
    }
   ],
   "source": [
    "soss_trim.sum()"
   ]
  },
  {
   "cell_type": "code",
   "execution_count": 145,
   "metadata": {
    "collapsed": false
   },
   "outputs": [],
   "source": [
    "soss_sh = geometric_transform(soss_trim, xshift, extra_arguments=(trace_fit(dx_fit),))"
   ]
  },
  {
   "cell_type": "code",
   "execution_count": 81,
   "metadata": {
    "collapsed": false
   },
   "outputs": [
    {
     "name": "stderr",
     "output_type": "stream",
     "text": [
      "[autoreload of PIL.Image failed: Traceback (most recent call last):\n",
      "  File \"/Users/pickering/miniconda3/lib/python3.4/site-packages/IPython/extensions/autoreload.py\", line 247, in check\n",
      "    superreload(m, reload, self.old_objects)\n",
      "ImportError: cannot import name '_imaging'\n",
      "]\n"
     ]
    },
    {
     "ename": "NameError",
     "evalue": "name 'soss_sh' is not defined",
     "output_type": "error",
     "traceback": [
      "\u001b[0;31m---------------------------------------------------------------------------\u001b[0m",
      "\u001b[0;31mNameError\u001b[0m                                 Traceback (most recent call last)",
      "\u001b[0;32m<ipython-input-81-6f1037d380a6>\u001b[0m in \u001b[0;36m<module>\u001b[0;34m()\u001b[0m\n\u001b[1;32m      1\u001b[0m \u001b[0mplt\u001b[0m\u001b[0;34m.\u001b[0m\u001b[0mfigure\u001b[0m\u001b[0;34m(\u001b[0m\u001b[0mfigsize\u001b[0m\u001b[0;34m=\u001b[0m\u001b[0;34m(\u001b[0m\u001b[0;36m8\u001b[0m\u001b[0;34m,\u001b[0m\u001b[0;36m16\u001b[0m\u001b[0;34m)\u001b[0m\u001b[0;34m)\u001b[0m\u001b[0;34m\u001b[0m\u001b[0m\n\u001b[0;32m----> 2\u001b[0;31m \u001b[0mplt\u001b[0m\u001b[0;34m.\u001b[0m\u001b[0mimshow\u001b[0m\u001b[0;34m(\u001b[0m\u001b[0mnp\u001b[0m\u001b[0;34m.\u001b[0m\u001b[0mrot90\u001b[0m\u001b[0;34m(\u001b[0m\u001b[0msoss_sh\u001b[0m\u001b[0;34m)\u001b[0m\u001b[0;34m,\u001b[0m \u001b[0maspect\u001b[0m\u001b[0;34m=\u001b[0m\u001b[0;36m0.5\u001b[0m\u001b[0;34m*\u001b[0m\u001b[0ms\u001b[0m\u001b[0;34m.\u001b[0m\u001b[0mrate\u001b[0m\u001b[0;34m.\u001b[0m\u001b[0mshape\u001b[0m\u001b[0;34m[\u001b[0m\u001b[0;36m1\u001b[0m\u001b[0;34m]\u001b[0m\u001b[0;34m/\u001b[0m\u001b[0ms\u001b[0m\u001b[0;34m.\u001b[0m\u001b[0mrate\u001b[0m\u001b[0;34m.\u001b[0m\u001b[0mshape\u001b[0m\u001b[0;34m[\u001b[0m\u001b[0;36m0\u001b[0m\u001b[0;34m]\u001b[0m\u001b[0;34m,\u001b[0m \u001b[0minterpolation\u001b[0m\u001b[0;34m=\u001b[0m\u001b[0;34m'nearest'\u001b[0m\u001b[0;34m)\u001b[0m\u001b[0;34m\u001b[0m\u001b[0m\n\u001b[0m",
      "\u001b[0;31mNameError\u001b[0m: name 'soss_sh' is not defined"
     ]
    },
    {
     "data": {
      "text/plain": [
       "<matplotlib.figure.Figure at 0x11227f0f0>"
      ]
     },
     "metadata": {},
     "output_type": "display_data"
    }
   ],
   "source": [
    "plt.figure(figsize=(8,16))\n",
    "plt.imshow(np.rot90(soss_sh), aspect=0.5*s.rate.shape[1]/s.rate.shape[0], interpolation='nearest')"
   ]
  },
  {
   "cell_type": "code",
   "execution_count": 120,
   "metadata": {
    "collapsed": false
   },
   "outputs": [
    {
     "data": {
      "text/plain": [
       "179.0"
      ]
     },
     "execution_count": 120,
     "metadata": {},
     "output_type": "execute_result"
    }
   ],
   "source": [
    "pos_1[5]"
   ]
  },
  {
   "cell_type": "code",
   "execution_count": 158,
   "metadata": {
    "collapsed": false
   },
   "outputs": [
    {
     "data": {
      "text/html": [
       "&lt;Table masked=True length=1371&gt;\n",
       "<table id=\"table4914281944\">\n",
       "<thead><tr><th>pixels</th><th>wavelength</th><th>dlds</th><th>R</th><th>trace</th></tr></thead>\n",
       "<thead><tr><th>int64</th><th>float64</th><th>float64</th><th>float64</th><th>float64</th></tr></thead>\n",
       "<tr><td>386</td><td>0.6352</td><td>0.0004</td><td>794.0</td><td>61.6494383593</td></tr>\n",
       "<tr><td>387</td><td>0.6356</td><td>0.0004</td><td>794.5</td><td>61.93156845</td></tr>\n",
       "<tr><td>388</td><td>0.6361</td><td>0.0005</td><td>636.1</td><td>62.2131586354</td></tr>\n",
       "<tr><td>389</td><td>0.6366</td><td>0.0005</td><td>636.6</td><td>62.4942082462</td></tr>\n",
       "<tr><td>390</td><td>0.637</td><td>0.0004</td><td>796.25</td><td>62.7747166253</td></tr>\n",
       "<tr><td>391</td><td>0.6375</td><td>0.0005</td><td>637.5</td><td>63.0546831279</td></tr>\n",
       "<tr><td>392</td><td>0.6379</td><td>0.0004</td><td>797.375</td><td>63.3341071214</td></tr>\n",
       "<tr><td>393</td><td>0.6384</td><td>0.0005</td><td>638.4</td><td>63.6129879851</td></tr>\n",
       "<tr><td>394</td><td>0.6388</td><td>0.0004</td><td>798.5</td><td>63.8913251106</td></tr>\n",
       "<tr><td>395</td><td>0.6393</td><td>0.0005</td><td>639.3</td><td>64.1691179013</td></tr>\n",
       "<tr><td>...</td><td>...</td><td>...</td><td>...</td><td>...</td></tr>\n",
       "<tr><td>1747</td><td>1.2599</td><td>0.0005</td><td>1259.9</td><td>146.459988497</td></tr>\n",
       "<tr><td>1748</td><td>1.2603</td><td>0.0004</td><td>1575.375</td><td>146.427189151</td></tr>\n",
       "<tr><td>1749</td><td>1.2608</td><td>0.0005</td><td>1260.8</td><td>146.39466555</td></tr>\n",
       "<tr><td>1750</td><td>1.2612</td><td>0.0004</td><td>1576.5</td><td>146.362421522</td></tr>\n",
       "<tr><td>1751</td><td>1.2617</td><td>0.0005</td><td>1261.7</td><td>146.330460915</td></tr>\n",
       "<tr><td>1752</td><td>1.2622</td><td>0.0005</td><td>1262.2</td><td>146.298787599</td></tr>\n",
       "<tr><td>1753</td><td>1.2626</td><td>0.0004</td><td>1578.25</td><td>146.267405465</td></tr>\n",
       "<tr><td>1754</td><td>1.2631</td><td>0.0005</td><td>1263.1</td><td>146.236318424</td></tr>\n",
       "<tr><td>1755</td><td>1.2635</td><td>0.0004</td><td>1579.375</td><td>146.205530409</td></tr>\n",
       "<tr><td>1756</td><td>1.264</td><td>0.0005</td><td>1264.0</td><td>146.175045375</td></tr>\n",
       "</table>"
      ],
      "text/plain": [
       "<Table masked=True length=1371>\n",
       "pixels wavelength   dlds     R         trace    \n",
       "int64   float64   float64 float64     float64   \n",
       "------ ---------- ------- -------- -------------\n",
       "   386     0.6352  0.0004    794.0 61.6494383593\n",
       "   387     0.6356  0.0004    794.5   61.93156845\n",
       "   388     0.6361  0.0005    636.1 62.2131586354\n",
       "   389     0.6366  0.0005    636.6 62.4942082462\n",
       "   390      0.637  0.0004   796.25 62.7747166253\n",
       "   391     0.6375  0.0005    637.5 63.0546831279\n",
       "   392     0.6379  0.0004  797.375 63.3341071214\n",
       "   393     0.6384  0.0005    638.4 63.6129879851\n",
       "   394     0.6388  0.0004    798.5 63.8913251106\n",
       "   395     0.6393  0.0005    639.3 64.1691179013\n",
       "   ...        ...     ...      ...           ...\n",
       "  1747     1.2599  0.0005   1259.9 146.459988497\n",
       "  1748     1.2603  0.0004 1575.375 146.427189151\n",
       "  1749     1.2608  0.0005   1260.8  146.39466555\n",
       "  1750     1.2612  0.0004   1576.5 146.362421522\n",
       "  1751     1.2617  0.0005   1261.7 146.330460915\n",
       "  1752     1.2622  0.0005   1262.2 146.298787599\n",
       "  1753     1.2626  0.0004  1578.25 146.267405465\n",
       "  1754     1.2631  0.0005   1263.1 146.236318424\n",
       "  1755     1.2635  0.0004 1579.375 146.205530409\n",
       "  1756      1.264  0.0005   1264.0 146.175045375"
      ]
     },
     "execution_count": 158,
     "metadata": {},
     "output_type": "execute_result"
    }
   ],
   "source": [
    "Table.read(\"gr700xd_2_disp.fits\")"
   ]
  },
  {
   "cell_type": "code",
   "execution_count": 161,
   "metadata": {
    "collapsed": false
   },
   "outputs": [
    {
     "data": {
      "text/plain": [
       "7085.1702943132086"
      ]
     },
     "execution_count": 161,
     "metadata": {},
     "output_type": "execute_result"
    }
   ],
   "source": [
    "soss_im.sum()"
   ]
  },
  {
   "cell_type": "code",
   "execution_count": 162,
   "metadata": {
    "collapsed": false
   },
   "outputs": [
    {
     "data": {
      "text/plain": [
       "7082.2468844417554"
      ]
     },
     "execution_count": 162,
     "metadata": {},
     "output_type": "execute_result"
    }
   ],
   "source": [
    "soss_sh.sum()"
   ]
  },
  {
   "cell_type": "code",
   "execution_count": 164,
   "metadata": {
    "collapsed": false
   },
   "outputs": [
    {
     "data": {
      "text/plain": [
       "(2040, 257)"
      ]
     },
     "execution_count": 164,
     "metadata": {},
     "output_type": "execute_result"
    }
   ],
   "source": [
    "soss_sh.shape"
   ]
  },
  {
   "cell_type": "code",
   "execution_count": 165,
   "metadata": {
    "collapsed": false
   },
   "outputs": [
    {
     "data": {
      "text/plain": [
       "(2048, 256)"
      ]
     },
     "execution_count": 165,
     "metadata": {},
     "output_type": "execute_result"
    }
   ],
   "source": [
    "mask_1.shape"
   ]
  },
  {
   "cell_type": "code",
   "execution_count": 166,
   "metadata": {
    "collapsed": false
   },
   "outputs": [
    {
     "data": {
      "text/plain": [
       "127.5"
      ]
     },
     "execution_count": 166,
     "metadata": {},
     "output_type": "execute_result"
    }
   ],
   "source": [
    "255/2"
   ]
  },
  {
   "cell_type": "code",
   "execution_count": 168,
   "metadata": {
    "collapsed": false
   },
   "outputs": [
    {
     "ename": "TypeError",
     "evalue": "object of type 'float' has no len()",
     "output_type": "error",
     "traceback": [
      "\u001b[0;31m---------------------------------------------------------------------------\u001b[0m",
      "\u001b[0;31mTypeError\u001b[0m                                 Traceback (most recent call last)",
      "\u001b[0;32m<ipython-input-168-66c53e449d5e>\u001b[0m in \u001b[0;36m<module>\u001b[0;34m()\u001b[0m\n\u001b[0;32m----> 1\u001b[0;31m \u001b[0mlen\u001b[0m\u001b[0;34m(\u001b[0m\u001b[0;36m1.0\u001b[0m\u001b[0;34m)\u001b[0m\u001b[0;34m\u001b[0m\u001b[0m\n\u001b[0m",
      "\u001b[0;31mTypeError\u001b[0m: object of type 'float' has no len()"
     ]
    }
   ],
   "source": [
    "len(1.0)"
   ]
  },
  {
   "cell_type": "code",
   "execution_count": 169,
   "metadata": {
    "collapsed": false
   },
   "outputs": [
    {
     "name": "stderr",
     "output_type": "stream",
     "text": [
      "/Users/pickering/miniconda3/lib/python3.4/site-packages/ipykernel/__main__.py:1: DeprecationWarning: using a non-integer number instead of an integer will result in an error in the future\n",
      "  if __name__ == '__main__':\n"
     ]
    },
    {
     "data": {
      "text/plain": [
       "array([[  2.39998235e-19,   2.52549073e-17,   1.37865385e-18, ...,\n",
       "          7.61443765e-18,   5.09818389e-18,   1.59040705e-17],\n",
       "       [ -4.35418368e-18,   3.14738992e-17,   1.12575028e-17, ...,\n",
       "          5.13210331e-18,  -1.09844681e-18,   4.61625549e-18],\n",
       "       [ -2.52369962e-17,   3.22895413e-18,  -7.88230709e-18, ...,\n",
       "         -1.79979476e-17,  -1.38821039e-17,  -1.69257742e-17],\n",
       "       ..., \n",
       "       [ -1.70314988e-17,   4.82300822e-19,  -1.31470052e-17, ...,\n",
       "         -1.30871710e-17,  -6.26409756e-18,  -1.52451160e-17],\n",
       "       [ -3.37208235e-18,   1.57158208e-17,   7.50314631e-18, ...,\n",
       "         -3.04736063e-18,   5.35031988e-18,  -2.12354760e-18],\n",
       "       [ -8.67239329e-18,   9.32200432e-18,  -2.94618135e-18, ...,\n",
       "         -1.13988664e-17,  -4.30615462e-18,  -1.12534365e-17]])"
      ]
     },
     "execution_count": 169,
     "metadata": {},
     "output_type": "execute_result"
    }
   ],
   "source": [
    "soss_im[128.5:, :]"
   ]
  },
  {
   "cell_type": "code",
   "execution_count": 172,
   "metadata": {
    "collapsed": false
   },
   "outputs": [
    {
     "data": {
      "text/plain": [
       "(2297, 257)"
      ]
     },
     "execution_count": 172,
     "metadata": {},
     "output_type": "execute_result"
    }
   ],
   "source": [
    "soss_im.shape"
   ]
  },
  {
   "cell_type": "code",
   "execution_count": 178,
   "metadata": {
    "collapsed": false
   },
   "outputs": [
    {
     "data": {
      "text/plain": [
       "-129"
      ]
     },
     "execution_count": 178,
     "metadata": {},
     "output_type": "execute_result"
    }
   ],
   "source": [
    "int(np.floor(-128.5))"
   ]
  },
  {
   "cell_type": "code",
   "execution_count": 33,
   "metadata": {
    "collapsed": true
   },
   "outputs": [],
   "source": [
    "np.zeros_like?"
   ]
  },
  {
   "cell_type": "code",
   "execution_count": 41,
   "metadata": {
    "collapsed": false
   },
   "outputs": [
    {
     "data": {
      "text/plain": [
       "'a'"
      ]
     },
     "execution_count": 41,
     "metadata": {},
     "output_type": "execute_result"
    }
   ],
   "source": [
    "'A'.lower()"
   ]
  },
  {
   "cell_type": "code",
   "execution_count": 47,
   "metadata": {
    "collapsed": true
   },
   "outputs": [],
   "source": [
    "from astropy.io import fits"
   ]
  },
  {
   "cell_type": "code",
   "execution_count": 49,
   "metadata": {
    "collapsed": false
   },
   "outputs": [],
   "source": [
    "f = fits.getdata(\"dispersion/gr700xd_1_disp.fits\")"
   ]
  },
  {
   "cell_type": "code",
   "execution_count": 52,
   "metadata": {
    "collapsed": false
   },
   "outputs": [
    {
     "name": "stdout",
     "output_type": "stream",
     "text": [
      "pixels\n",
      "wavelength\n",
      "dlds\n",
      "r\n",
      "trace\n"
     ]
    }
   ],
   "source": [
    "for c in f.columns:\n",
    "    print(c.name.lower())"
   ]
  },
  {
   "cell_type": "code",
   "execution_count": 60,
   "metadata": {
    "collapsed": true
   },
   "outputs": [],
   "source": [
    "a = np.arange(5)"
   ]
  },
  {
   "cell_type": "code",
   "execution_count": 61,
   "metadata": {
    "collapsed": false
   },
   "outputs": [
    {
     "data": {
      "text/plain": [
       "array([0, 1, 2, 3, 4])"
      ]
     },
     "execution_count": 61,
     "metadata": {},
     "output_type": "execute_result"
    }
   ],
   "source": [
    "a[0:10]"
   ]
  },
  {
   "cell_type": "code",
   "execution_count": 35,
   "metadata": {
    "collapsed": true
   },
   "outputs": [],
   "source": [
    "from pandeia.engine.coords import IrregularGrid"
   ]
  },
  {
   "cell_type": "code",
   "execution_count": 36,
   "metadata": {
    "collapsed": false
   },
   "outputs": [],
   "source": [
    "g = IrregularGrid(np.arange(10), np.arange(20))"
   ]
  },
  {
   "cell_type": "code",
   "execution_count": 37,
   "metadata": {
    "collapsed": false
   },
   "outputs": [
    {
     "data": {
      "text/plain": [
       "array([[ 0.,  0.,  0.,  0.,  0.,  0.,  0.,  0.,  0.,  0.,  0.,  0.,  0.,\n",
       "         0.,  0.,  0.,  0.,  0.,  0.,  0.],\n",
       "       [ 1.,  1.,  1.,  1.,  1.,  1.,  1.,  1.,  1.,  1.,  1.,  1.,  1.,\n",
       "         1.,  1.,  1.,  1.,  1.,  1.,  1.],\n",
       "       [ 2.,  2.,  2.,  2.,  2.,  2.,  2.,  2.,  2.,  2.,  2.,  2.,  2.,\n",
       "         2.,  2.,  2.,  2.,  2.,  2.,  2.],\n",
       "       [ 3.,  3.,  3.,  3.,  3.,  3.,  3.,  3.,  3.,  3.,  3.,  3.,  3.,\n",
       "         3.,  3.,  3.,  3.,  3.,  3.,  3.],\n",
       "       [ 4.,  4.,  4.,  4.,  4.,  4.,  4.,  4.,  4.,  4.,  4.,  4.,  4.,\n",
       "         4.,  4.,  4.,  4.,  4.,  4.,  4.],\n",
       "       [ 5.,  5.,  5.,  5.,  5.,  5.,  5.,  5.,  5.,  5.,  5.,  5.,  5.,\n",
       "         5.,  5.,  5.,  5.,  5.,  5.,  5.],\n",
       "       [ 6.,  6.,  6.,  6.,  6.,  6.,  6.,  6.,  6.,  6.,  6.,  6.,  6.,\n",
       "         6.,  6.,  6.,  6.,  6.,  6.,  6.],\n",
       "       [ 7.,  7.,  7.,  7.,  7.,  7.,  7.,  7.,  7.,  7.,  7.,  7.,  7.,\n",
       "         7.,  7.,  7.,  7.,  7.,  7.,  7.],\n",
       "       [ 8.,  8.,  8.,  8.,  8.,  8.,  8.,  8.,  8.,  8.,  8.,  8.,  8.,\n",
       "         8.,  8.,  8.,  8.,  8.,  8.,  8.],\n",
       "       [ 9.,  9.,  9.,  9.,  9.,  9.,  9.,  9.,  9.,  9.,  9.,  9.,  9.,\n",
       "         9.,  9.,  9.,  9.,  9.,  9.,  9.]])"
      ]
     },
     "execution_count": 37,
     "metadata": {},
     "output_type": "execute_result"
    }
   ],
   "source": [
    "g.y"
   ]
  },
  {
   "cell_type": "code",
   "execution_count": 38,
   "metadata": {
    "collapsed": true
   },
   "outputs": [],
   "source": [
    "np.ones_like?"
   ]
  },
  {
   "cell_type": "code",
   "execution_count": 39,
   "metadata": {
    "collapsed": false
   },
   "outputs": [
    {
     "data": {
      "text/plain": [
       "array([[ 0.,  0.,  0.,  0.,  0.,  0.,  0.,  0.,  0.,  0.,  0.,  0.,  0.,\n",
       "         0.,  0.,  0.,  0.,  0.,  0.,  0.],\n",
       "       [ 0.,  0.,  0.,  0.,  0.,  0.,  0.,  0.,  0.,  0.,  0.,  0.,  0.,\n",
       "         0.,  0.,  0.,  0.,  0.,  0.,  0.],\n",
       "       [ 0.,  0.,  0.,  0.,  0.,  0.,  0.,  0.,  0.,  0.,  0.,  0.,  0.,\n",
       "         0.,  0.,  0.,  0.,  0.,  0.,  0.],\n",
       "       [ 0.,  0.,  0.,  0.,  0.,  0.,  0.,  0.,  0.,  0.,  0.,  0.,  0.,\n",
       "         0.,  0.,  0.,  0.,  0.,  0.,  0.],\n",
       "       [ 0.,  0.,  0.,  0.,  0.,  0.,  0.,  0.,  0.,  0.,  0.,  0.,  0.,\n",
       "         0.,  0.,  0.,  0.,  0.,  0.,  0.],\n",
       "       [ 0.,  0.,  0.,  0.,  0.,  0.,  0.,  0.,  0.,  0.,  0.,  0.,  0.,\n",
       "         0.,  0.,  0.,  0.,  0.,  0.,  0.],\n",
       "       [ 0.,  0.,  0.,  0.,  0.,  0.,  0.,  0.,  0.,  0.,  0.,  0.,  0.,\n",
       "         0.,  0.,  0.,  0.,  0.,  0.,  0.],\n",
       "       [ 0.,  0.,  0.,  0.,  0.,  0.,  0.,  0.,  0.,  0.,  0.,  0.,  0.,\n",
       "         0.,  0.,  0.,  0.,  0.,  0.,  0.],\n",
       "       [ 0.,  0.,  0.,  0.,  0.,  0.,  0.,  0.,  0.,  0.,  0.,  0.,  0.,\n",
       "         0.,  0.,  0.,  0.,  0.,  0.,  0.],\n",
       "       [ 0.,  0.,  0.,  0.,  0.,  0.,  0.,  0.,  0.,  0.,  0.,  0.,  0.,\n",
       "         0.,  0.,  0.,  0.,  0.,  0.,  0.]])"
      ]
     },
     "execution_count": 39,
     "metadata": {},
     "output_type": "execute_result"
    }
   ],
   "source": [
    "np.zeros_like(g.y)"
   ]
  },
  {
   "cell_type": "code",
   "execution_count": 26,
   "metadata": {
    "collapsed": true
   },
   "outputs": [],
   "source": [
    "a = np.arange(25).reshape(5, 5)"
   ]
  },
  {
   "cell_type": "code",
   "execution_count": 30,
   "metadata": {
    "collapsed": false
   },
   "outputs": [
    {
     "data": {
      "text/plain": [
       "array([[ 0,  1,  2,  3,  4],\n",
       "       [ 0,  1,  2,  3,  4],\n",
       "       [ 0,  1,  2,  3,  4],\n",
       "       [ 5,  6,  7,  8,  9],\n",
       "       [10, 11, 12, 13, 14],\n",
       "       [15, 16, 17, 18, 19],\n",
       "       [20, 21, 22, 23, 24],\n",
       "       [20, 21, 22, 23, 24],\n",
       "       [20, 21, 22, 23, 24]])"
      ]
     },
     "execution_count": 30,
     "metadata": {},
     "output_type": "execute_result"
    }
   ],
   "source": [
    "np.pad(a, ([2,2], [0,0]), mode='edge')"
   ]
  },
  {
   "cell_type": "code",
   "execution_count": 73,
   "metadata": {
    "collapsed": false
   },
   "outputs": [],
   "source": [
    "gr3 = Table.read(\"dispersion/gr700xd_3_disp.fits\")\n",
    "mean = gr3['dlds'].mean()\n",
    "gr3['dlds'] = mean\n",
    "gr3.write(\"dispersion/gr700xd_3_disp.fits\", overwrite=True)"
   ]
  },
  {
   "cell_type": "code",
   "execution_count": 71,
   "metadata": {
    "collapsed": false
   },
   "outputs": [
    {
     "data": {
      "text/plain": [
       "0.00032026431718061669"
      ]
     },
     "execution_count": 71,
     "metadata": {},
     "output_type": "execute_result"
    }
   ],
   "source": [
    "mean"
   ]
  },
  {
   "cell_type": "code",
   "execution_count": 121,
   "metadata": {
    "collapsed": false
   },
   "outputs": [
    {
     "ename": "NameError",
     "evalue": "name 'floor' is not defined",
     "output_type": "error",
     "traceback": [
      "\u001b[0;31m---------------------------------------------------------------------------\u001b[0m",
      "\u001b[0;31mNameError\u001b[0m                                 Traceback (most recent call last)",
      "\u001b[0;32m<ipython-input-121-e44d3e9a3bcc>\u001b[0m in \u001b[0;36m<module>\u001b[0;34m()\u001b[0m\n\u001b[0;32m----> 1\u001b[0;31m \u001b[0mfloor\u001b[0m\u001b[0;34m(\u001b[0m\u001b[0;36m127.5\u001b[0m\u001b[0;34m)\u001b[0m\u001b[0;34m\u001b[0m\u001b[0m\n\u001b[0m",
      "\u001b[0;31mNameError\u001b[0m: name 'floor' is not defined"
     ]
    }
   ],
   "source": [
    "floor(127.5)"
   ]
  },
  {
   "cell_type": "code",
   "execution_count": 128,
   "metadata": {
    "collapsed": false
   },
   "outputs": [],
   "source": [
    "a = np.ones(25).reshape(5, 5)\n",
    "b = np.ones(36).reshape(6, 6)"
   ]
  },
  {
   "cell_type": "code",
   "execution_count": 130,
   "metadata": {
    "collapsed": false
   },
   "outputs": [
    {
     "data": {
      "text/plain": [
       "(6, 5)"
      ]
     },
     "execution_count": 130,
     "metadata": {},
     "output_type": "execute_result"
    }
   ],
   "source": [
    "b[:, 0:-1].shape"
   ]
  },
  {
   "cell_type": "code",
   "execution_count": 132,
   "metadata": {
    "collapsed": false
   },
   "outputs": [
    {
     "data": {
      "text/plain": [
       "(2040,)"
      ]
     },
     "execution_count": 132,
     "metadata": {},
     "output_type": "execute_result"
    }
   ],
   "source": [
    "s.wave_pix_list[0].shape"
   ]
  },
  {
   "cell_type": "code",
   "execution_count": 134,
   "metadata": {
    "collapsed": false
   },
   "outputs": [
    {
     "data": {
      "text/plain": [
       "(2303, 259)"
      ]
     },
     "execution_count": 134,
     "metadata": {},
     "output_type": "execute_result"
    }
   ],
   "source": [
    "s.rate.shape"
   ]
  },
  {
   "cell_type": "code",
   "execution_count": 55,
   "metadata": {
    "collapsed": true
   },
   "outputs": [],
   "source": [
    "fits.writeto?"
   ]
  },
  {
   "cell_type": "code",
   "execution_count": 80,
   "metadata": {
    "collapsed": false
   },
   "outputs": [
    {
     "data": {
      "text/plain": [
       "{'background': 'medium',\n",
       " 'calculation': {'effects': {'background': True,\n",
       "   'ipc': True,\n",
       "   'saturation': True},\n",
       "  'noise': {'crs': False,\n",
       "   'darkcurrent': True,\n",
       "   'ffnoise': True,\n",
       "   'readnoise': True,\n",
       "   'rn_correlation': True}},\n",
       " 'configuration': {'detector': {'nexp': 1,\n",
       "   'ngroup': 10,\n",
       "   'nint': 1,\n",
       "   'readmode': 'nis',\n",
       "   'subarray': 'substrip256'},\n",
       "  'dynamic_scene': True,\n",
       "  'instrument': {'aperture': 'soss',\n",
       "   'disperser': 'gr700xd',\n",
       "   'filter': None,\n",
       "   'instrument': 'niriss',\n",
       "   'mode': 'soss'},\n",
       "  'max_scene_size': 16.9,\n",
       "  'scene_size': 16.9},\n",
       " 'scene': [{'id': 1,\n",
       "   'position': {'orientation': 0.0, 'x_offset': 0.0, 'y_offset': 0.0},\n",
       "   'shape': {'geometry': 'point'},\n",
       "   'spectrum': {'lines': [],\n",
       "    'name': 'generic source',\n",
       "    'normalization': {'norm_flux': 0.1,\n",
       "     'norm_fluxunit': 'mjy',\n",
       "     'norm_wave': 2.0,\n",
       "     'norm_waveunit': 'microns',\n",
       "     'type': 'at_lambda'},\n",
       "    'sed': {'sed_type': 'flat', 'unit': 'fnu'}}}],\n",
       " 'strategy': {'background_subtraction': False,\n",
       "  'display_string': 'SOSS Spectral Extraction',\n",
       "  'method': 'soss',\n",
       "  'order': 1,\n",
       "  'reference_wavelength': 1.0,\n",
       "  'units': 'pixels'}}"
      ]
     },
     "execution_count": 80,
     "metadata": {},
     "output_type": "execute_result"
    }
   ],
   "source": [
    "calc"
   ]
  },
  {
   "cell_type": "code",
   "execution_count": null,
   "metadata": {
    "collapsed": true
   },
   "outputs": [],
   "source": [
    "dir tm"
   ]
  }
 ],
 "metadata": {
  "kernelspec": {
   "display_name": "Python 3",
   "language": "python",
   "name": "python3"
  },
  "language_info": {
   "codemirror_mode": {
    "name": "ipython",
    "version": 3
   },
   "file_extension": ".py",
   "mimetype": "text/x-python",
   "name": "python",
   "nbconvert_exporter": "python",
   "pygments_lexer": "ipython3",
   "version": "3.4.4"
  }
 },
 "nbformat": 4,
 "nbformat_minor": 0
}

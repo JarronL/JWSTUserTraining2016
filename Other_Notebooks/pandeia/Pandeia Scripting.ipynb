{
 "cells": [
  {
   "cell_type": "markdown",
   "metadata": {},
   "source": [
    "# Intro to Pandeia scripting\n",
    "\n",
    "Pandeia is not yet incorporated into astroconda so we need to do an installation step. In addition to the source code, a copy of which is included in the ``JWSTUserTraining2016`` repository, Pandeia requires reference data that describes and defines things like instrument attributes as well as Pysynphot reference data for things like performing filter bandpass normalization and looking up stellar atmosphere models.  These datasets have been copied to the workshop's USB drives.  To install them and configure Pandeia for your enviroment, do the following:\n",
    "```\n",
    "# go to the top of the workshop repository\n",
    "cd <path_to_repo>/JWSTUserTraining2016\n",
    "source install_pandeia /Volumes/JWST_UT16/data/pandeia\n",
    "```\n",
    "If you've already copied the data off a USB stick, make sure that copy has ``data/pandeia`` in it and then replace ``/Volumes/JWST_UT16`` with the path to your local copy.  Or if you're using the stick on a Linux machine, replace it with the path where the USB stick is mounted.\n",
    "\n",
    "The developer documentation (which is admittedly very rough currently) can be accessed at https://github.com/spacetelescope/JWSTUserTraining2016/tree/master/pandeia/engine/doc.  Specifically, ``engine_input_api.rst`` and ``engine_output_api.rst`` are the most relevant resources for Pandeia scripting and provide details about the format and structure of inputs and outputs."
   ]
  },
  {
   "cell_type": "code",
   "execution_count": null,
   "metadata": {
    "collapsed": true
   },
   "outputs": [],
   "source": [
    "# generic imports\n",
    "import numpy as np\n",
    "import matplotlib\n",
    "from matplotlib import style\n",
    "style.use('ggplot')\n",
    "matplotlib.use('nbagg')\n",
    "import matplotlib.pyplot as plt\n",
    "%matplotlib notebook"
   ]
  },
  {
   "cell_type": "code",
   "execution_count": null,
   "metadata": {
    "collapsed": true
   },
   "outputs": [],
   "source": [
    "# pandeia imports\n",
    "from pandeia.engine.calc_utils import build_default_calc\n",
    "from pandeia.engine.io_utils import read_json, write_json\n",
    "from pandeia.engine.perform_calculation import perform_calculation"
   ]
  },
  {
   "cell_type": "code",
   "execution_count": null,
   "metadata": {
    "collapsed": true
   },
   "outputs": [],
   "source": [
    "# functions to plot pandeia results \n",
    "def twod_plot(results, kind=None):\n",
    "    if kind is None:\n",
    "        print(\"Valid kinds of 2D plots are %s\" % str(list(results['2d'].keys())))\n",
    "        return None\n",
    "    else:\n",
    "        if kind not in results['2d']:\n",
    "            print(\"Invalid kind of 2D plot: %s\" % kind)\n",
    "            print(\"Valid kinds of 2D plots are %s\" % str(list(results['2d'].keys())))\n",
    "            return None\n",
    "        t = results['transform']\n",
    "        if results['information']['calc_type'] == 'image':\n",
    "            xmin = t['x_min'] \n",
    "            xmax = t['x_max']\n",
    "            aspect = 1.0\n",
    "        elif results['information']['calc_type'] == 'multiorder':\n",
    "            xmin = t['x_min'] \n",
    "            xmax = t['x_max']\n",
    "            aspect = 0.5\n",
    "        elif results['information']['calc_type'] == 'slitless':\n",
    "            mid = t['wave_det_size']/2.0\n",
    "            xmin = -t['x_step'] * mid\n",
    "            xmax = t['x_step'] * mid\n",
    "            aspect = 0.75\n",
    "        else:\n",
    "            xmin = t['wave_det_min']\n",
    "            xmax = t['wave_det_max']\n",
    "            aspect = 0.75\n",
    "        ymin = t['y_min']\n",
    "        ymax = t['y_max']\n",
    "        extent = [xmin, xmax, ymin, ymax]\n",
    "        implot = plt.imshow(results['2d'][kind], interpolation='nearest', extent=extent, aspect=aspect*(xmax-xmin)/(ymax-ymin))\n",
    "        cb = plt.colorbar(orientation='horizontal')\n",
    "        plt.show()\n",
    "def oned_plot(results, kind=None):\n",
    "    if kind is None:\n",
    "        print(\"Valid kinds of 1D plots are %s\" % str(list(results['1d'].keys())))\n",
    "        return None\n",
    "    else:\n",
    "        if kind not in results['1d']:\n",
    "            print(\"Invalid kind of 1D plot: %s\" % kind)\n",
    "            print(\"Valid kinds of 1D plots are %s\" % str(list(results['1d'].keys())))\n",
    "            return None\n",
    "        plt.plot(results['1d'][kind][0], results['1d'][kind][1])\n",
    "        plt.show()"
   ]
  },
  {
   "cell_type": "code",
   "execution_count": null,
   "metadata": {
    "collapsed": true
   },
   "outputs": [],
   "source": [
    "c = build_default_calc(telescope='jwst', instrument='nircam', mode='sw_imaging')"
   ]
  },
  {
   "cell_type": "code",
   "execution_count": null,
   "metadata": {
    "collapsed": false
   },
   "outputs": [],
   "source": [
    "r = perform_calculation(c)"
   ]
  },
  {
   "cell_type": "code",
   "execution_count": null,
   "metadata": {
    "collapsed": false
   },
   "outputs": [],
   "source": [
    "twod_plot(r, kind='snr')"
   ]
  },
  {
   "cell_type": "code",
   "execution_count": null,
   "metadata": {
    "collapsed": false
   },
   "outputs": [],
   "source": [
    "oned_plot(r, kind='bg')"
   ]
  },
  {
   "cell_type": "code",
   "execution_count": null,
   "metadata": {
    "collapsed": true
   },
   "outputs": [],
   "source": []
  }
 ],
 "metadata": {
  "anaconda-cloud": {},
  "kernelspec": {
   "display_name": "Python [default]",
   "language": "python",
   "name": "python3"
  },
  "language_info": {
   "codemirror_mode": {
    "name": "ipython",
    "version": 3
   },
   "file_extension": ".py",
   "mimetype": "text/x-python",
   "name": "python",
   "nbconvert_exporter": "python",
   "pygments_lexer": "ipython3",
   "version": "3.5.2"
  }
 },
 "nbformat": 4,
 "nbformat_minor": 1
}

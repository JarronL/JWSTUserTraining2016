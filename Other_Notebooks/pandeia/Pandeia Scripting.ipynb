{
 "cells": [
  {
   "cell_type": "markdown",
   "metadata": {},
   "source": [
    "# Intro to Pandeia scripting\n",
    "\n",
    "Pandeia is not yet incorporated into ``astroconda`` so we need to do an installation step. In addition to the source code, a copy of which is included in the ``JWSTUserTraining2016`` repository, Pandeia requires reference data that describes and defines things like instrument attributes as well as Pysynphot reference data for things like performing filter bandpass normalization and looking up stellar atmosphere models.  These datasets have been copied to the workshop's USB drives.  To install them and configure Pandeia for your enviroment, do the following:\n",
    "```\n",
    "# go to the top of the workshop repository\n",
    "cd <path_to_repo>/JWSTUserTraining2016\n",
    "source install_pandeia /Volumes/JWST_UT16/data/pandeia\n",
    "```\n",
    "If you've already copied the data off a USB stick, make sure that copy has ``data/pandeia`` in it and then replace ``/Volumes/JWST_UT16`` in the above command with the path to your local copy.  Or if you're using the stick on a Linux machine, replace it with the path where the USB stick is mounted.\n",
    "\n",
    "The developer documentation (which is admittedly very rough currently) can be accessed at https://github.com/spacetelescope/JWSTUserTraining2016/tree/master/pandeia/engine/doc.  Specifically, ``engine_input_api.rst`` and ``engine_output_api.rst`` are the most relevant resources for Pandeia scripting and provide details about the format and structure of inputs and outputs."
   ]
  },
  {
   "cell_type": "code",
   "execution_count": null,
   "metadata": {
    "collapsed": true
   },
   "outputs": [],
   "source": [
    "# generic imports\n",
    "import os\n",
    "import numpy as np\n",
    "import matplotlib\n",
    "from matplotlib import style\n",
    "style.use('ggplot')\n",
    "matplotlib.use('nbagg')\n",
    "import matplotlib.pyplot as plt\n",
    "%matplotlib notebook\n",
    "\n",
    "# these environment variables are required for Pandeia to work properly.  edit them to reflect where\n",
    "# you have them installed locally.\n",
    "os.environ['pandeia_refdata'] = \"/Users/pickering/STScI/JWST_workshop/JWSTUserTraining2016/pandeia_data\"\n",
    "os.environ['PYSYN_CDBS'] = \"/Users/pickering/STScI/JWST_workshop/JWSTUserTraining2016/cdbs.23.1.rc3\""
   ]
  },
  {
   "cell_type": "code",
   "execution_count": null,
   "metadata": {
    "collapsed": false
   },
   "outputs": [],
   "source": [
    "# pandeia imports\n",
    "\n",
    "# utility functions for building calculations and sources.\n",
    "from pandeia.engine.calc_utils import build_default_calc, build_default_source\n",
    "\n",
    "# utility functions for I/O between python structures and JSON files. these functions wrap python's core JSON\n",
    "# functionality with the logic required to serialize NumPy data properly so that calculation outputs, for example,\n",
    "# can be written to disk and saved.\n",
    "from pandeia.engine.io_utils import read_json, write_json\n",
    "\n",
    "# this is the core function that takes the calculation input, peforms the ETC calculation, and returns the results.\n",
    "from pandeia.engine.perform_calculation import perform_calculation"
   ]
  },
  {
   "cell_type": "code",
   "execution_count": null,
   "metadata": {
    "collapsed": true
   },
   "outputs": [],
   "source": [
    "# convenience functions to plot pandeia results \n",
    "def twod_plot(results, kind=None):\n",
    "    if kind is None:\n",
    "        print(\"Valid kinds of 2D plots are %s\" % str(list(results['2d'].keys())))\n",
    "        return None\n",
    "    else:\n",
    "        if kind not in results['2d']:\n",
    "            print(\"Invalid kind of 2D plot: %s\" % kind)\n",
    "            print(\"Valid kinds of 2D plots are %s\" % str(list(results['2d'].keys())))\n",
    "            return None\n",
    "        t = results['transform']\n",
    "        if results['information']['calc_type'] == 'image':\n",
    "            xmin = t['x_min'] \n",
    "            xmax = t['x_max']\n",
    "            aspect = 1.0\n",
    "        elif results['information']['calc_type'] == 'multiorder':\n",
    "            xmin = t['x_min'] \n",
    "            xmax = t['x_max']\n",
    "            aspect = 0.5\n",
    "        elif results['information']['calc_type'] == 'slitless':\n",
    "            mid = t['wave_det_size']/2.0\n",
    "            xmin = -t['x_step'] * mid\n",
    "            xmax = t['x_step'] * mid\n",
    "            aspect = 0.75\n",
    "        else:\n",
    "            xmin = t['wave_det_min']\n",
    "            xmax = t['wave_det_max']\n",
    "            aspect = 0.75\n",
    "        ymin = t['y_min']\n",
    "        ymax = t['y_max']\n",
    "        extent = [xmin, xmax, ymin, ymax]\n",
    "        implot = plt.imshow(results['2d'][kind], interpolation='nearest', extent=extent, aspect=aspect*(xmax-xmin)/(ymax-ymin))\n",
    "        cb = plt.colorbar(orientation='horizontal')\n",
    "        plt.show()\n",
    "def oned_plot(results, kind=None):\n",
    "    if kind is None:\n",
    "        print(\"Valid kinds of 1D plots are %s\" % str(list(results['1d'].keys())))\n",
    "        return None\n",
    "    else:\n",
    "        if kind not in results['1d']:\n",
    "            print(\"Invalid kind of 1D plot: %s\" % kind)\n",
    "            print(\"Valid kinds of 1D plots are %s\" % str(list(results['1d'].keys())))\n",
    "            return None\n",
    "        plt.plot(results['1d'][kind][0], results['1d'][kind][1])\n",
    "        plt.show()"
   ]
  },
  {
   "cell_type": "code",
   "execution_count": null,
   "metadata": {
    "collapsed": false
   },
   "outputs": [],
   "source": [
    "# make a default NIRCam LW imaging calculation and adjust the brightness of the source\n",
    "c = build_default_calc(telescope='jwst', instrument='nircam', mode='lw_imaging')\n",
    "c['scene'][0]['spectrum']['normalization']['norm_flux'] = 0.001  # make source 1 uJy"
   ]
  },
  {
   "cell_type": "code",
   "execution_count": null,
   "metadata": {
    "collapsed": false
   },
   "outputs": [],
   "source": [
    "# run the calculation\n",
    "r = perform_calculation(c)"
   ]
  },
  {
   "cell_type": "code",
   "execution_count": null,
   "metadata": {
    "collapsed": false
   },
   "outputs": [],
   "source": [
    "# look at the scalar outputs\n",
    "r['scalar']"
   ]
  },
  {
   "cell_type": "code",
   "execution_count": null,
   "metadata": {
    "collapsed": false
   },
   "outputs": [],
   "source": [
    "# check to see if there were any warnings\n",
    "r['warnings']"
   ]
  },
  {
   "cell_type": "code",
   "execution_count": null,
   "metadata": {
    "collapsed": false
   },
   "outputs": [],
   "source": [
    "# have a look at the 2D S/N map\n",
    "twod_plot(r, kind='snr')"
   ]
  },
  {
   "cell_type": "code",
   "execution_count": null,
   "metadata": {
    "collapsed": false
   },
   "outputs": [],
   "source": [
    "# have a look at the focal plane count rate in e-/sec/um\n",
    "oned_plot(r, kind='fp')"
   ]
  },
  {
   "cell_type": "code",
   "execution_count": null,
   "metadata": {
    "collapsed": false
   },
   "outputs": [],
   "source": [
    "# do a loop through some filters and print how the extracted flux changes\n",
    "filters = ['f250m', 'f277w', 'f323n']\n",
    "for f in filters:\n",
    "    c['configuration']['instrument']['filter'] = f\n",
    "    r = perform_calculation(c)\n",
    "    print(r['scalar']['extracted_flux'])"
   ]
  },
  {
   "cell_type": "code",
   "execution_count": null,
   "metadata": {
    "collapsed": true
   },
   "outputs": [],
   "source": [
    "# write the results to disk using write_json(). the NumPy data gets converted to JSON arrays so this isn't the\n",
    "# the most efficient method, but it's simple and largely transparent.\n",
    "write_json(r, \"blah.json\")"
   ]
  },
  {
   "cell_type": "code",
   "execution_count": null,
   "metadata": {
    "collapsed": false
   },
   "outputs": [],
   "source": [
    "# read the data that was written and plot one of the results to show how JSON can be used to store calculation results\n",
    "# for later analysis\n",
    "data = read_json(\"blah.json\")\n",
    "twod_plot(data, kind='snr')"
   ]
  },
  {
   "cell_type": "code",
   "execution_count": null,
   "metadata": {
    "collapsed": false
   },
   "outputs": [],
   "source": [
    "# it's also possible to generate calculation outputs that produce FITS objects for the 2D and 3D data products\n",
    "raw_r = perform_calculation(c, dict_report=False)  # outputs raw Report instance\n",
    "r = raw_r.as_dict()  # produces dict() format as described in the engine output API document\n",
    "fits_r = raw_r.as_fits()  # like the dict format, but with the 2D and 3D NumPy objects converted to FITS objects\n",
    "fits_r['2d']['snr'].writeto(\"snr.fits\")"
   ]
  },
  {
   "cell_type": "code",
   "execution_count": null,
   "metadata": {
    "collapsed": false
   },
   "outputs": [],
   "source": [
    "!ls"
   ]
  }
 ],
 "metadata": {
  "anaconda-cloud": {},
  "kernelspec": {
   "display_name": "Python [default]",
   "language": "python",
   "name": "python3"
  },
  "language_info": {
   "codemirror_mode": {
    "name": "ipython",
    "version": 3
   },
   "file_extension": ".py",
   "mimetype": "text/x-python",
   "name": "python",
   "nbconvert_exporter": "python",
   "pygments_lexer": "ipython3",
   "version": "3.5.2"
  }
 },
 "nbformat": 4,
 "nbformat_minor": 1
}

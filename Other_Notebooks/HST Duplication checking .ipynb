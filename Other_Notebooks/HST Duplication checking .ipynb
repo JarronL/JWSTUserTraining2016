{
 "cells": [
  {
   "cell_type": "markdown",
   "metadata": {},
   "source": [
    "HST Duplication checking\n",
    "---------"
   ]
  },
  {
   "cell_type": "code",
   "execution_count": 1,
   "metadata": {
    "collapsed": false
   },
   "outputs": [],
   "source": [
    "from astropy.table import Table\n",
    "from astropy import coordinates as coords\n",
    "import astropy.units as u\n",
    "import pickle"
   ]
  },
  {
   "cell_type": "markdown",
   "metadata": {},
   "source": [
    "Download the PAEC catalog from https://archive.stsci.edu/hst/paec.html.\n",
    "Remove the header and replace with the following:\n",
    "\n",
    "```targname        | ra          | dec       |config  | mode       | aper       |spec         |  wave |time |prop |cy|dataset   |release |\n",
    "```\n",
    "\n",
    "Read it in, add the SkyCoord objects and write it out in a Pickle format so it's *much* faster to re-use it."
   ]
  },
  {
   "cell_type": "code",
   "execution_count": 2,
   "metadata": {
    "collapsed": false
   },
   "outputs": [
    {
     "name": "stderr",
     "output_type": "stream",
     "text": [
      "WARNING: IllegalSecondWarning: 'second' was found  to be '60.0', which is not in range [0,60). Treating as 0 sec, +1 min [astropy.coordinates.angle_utilities]\n"
     ]
    }
   ],
   "source": [
    "paec = Table.read('../tables/paec_7-present.cat',format='ascii.fixed_width')\n",
    "paec['coords'] = coords.SkyCoord(paec['ra'],paec['dec'],unit=(u.hour, u.deg),frame='icrs')\n",
    "fp = open('paec.p','wb')\n",
    "pickle.dump(paec,fp,protocol=pickle.HIGHEST_PROTOCOL)"
   ]
  },
  {
   "cell_type": "markdown",
   "metadata": {},
   "source": [
    "**The functions below do the duplication checking.** \n",
    "\n",
    " * `targets` is a table of targets that already have a `coords` column that is a `coords.SkyCoord` object\n",
    " * `paec` is the PAEC table\n",
    " * Returns:\n",
    "   * `urls` -- urls to the HST Program status pages. Empty string if there is no match. \n",
    "   * `propids` -- dictionary of matching proposal ids keyed by the index in `gp`; no entry in the dictionary if there is no match"
   ]
  },
  {
   "cell_type": "code",
   "execution_count": 8,
   "metadata": {
    "collapsed": true
   },
   "outputs": [],
   "source": [
    "def propurl(id):\n",
    "    base=\"<a href=http://www.stsci.edu/cgi-bin/get-proposal-info?id=\"\n",
    "    suffix=\"&observatory=HST\"\n",
    "    str = \"%s%d%s> %d </a>\" % (base,id,suffix,id)  \n",
    "    return str\n",
    "\n",
    "def dup_urls(targets,propids):\n",
    "    urls = [\"\" for i in range(len(targets))]\n",
    "    for i in range(len(targets)):\n",
    "        if i in propids:\n",
    "            for p in propids[i]:\n",
    "                urls[i] += propurl(p)+\" \"\n",
    "            urls[i] = urls[i][:-1]\n",
    "    return urls\n",
    "\n",
    "def duplications(targets,paec):\n",
    "    idxc, idxcatalog, d2d, d3d = targets['coords'].search_around_sky(paec['coords'],200*u.arcsec)\n",
    "    propids = {}\n",
    "    for id_targ,id_paec in zip(idxcatalog,idxc):\n",
    "        if id_targ not in propids:\n",
    "            propids[id_targ] = [paec['prop'][id_paec]]\n",
    "        else: \n",
    "            propids[id_targ] += [paec['prop'][id_paec]]\n",
    "    for p in propids.keys():\n",
    "        propids[p] = list(set(propids[p]))\n",
    "    urls = dup_urls(targets,propids)\n",
    "    return urls, propids"
   ]
  },
  {
   "cell_type": "markdown",
   "metadata": {},
   "source": [
    "Example usage\n",
    "----\n",
    "First create a table with a couple sources. In reality, you would read in your table, probably using `Table.read`. Create a SkyCoord column for the coordinates"
   ]
  },
  {
   "cell_type": "code",
   "execution_count": 9,
   "metadata": {
    "collapsed": false
   },
   "outputs": [],
   "source": [
    "data_rows = [('IC10',5.072250,59.303780),\n",
    "             ('Abell209',22.95901,-13.591956)\n",
    "            ]\n",
    "my_catalog = Table(rows=data_rows,names=['name','RA','Dec'])\n",
    "my_catalog['coords']=coords.SkyCoord(my_catalog['RA'],my_catalog['Dec'],\n",
    "                                     unit=(u.deg, u.deg),frame='icrs')"
   ]
  },
  {
   "cell_type": "markdown",
   "metadata": {},
   "source": [
    "Read in the PAEC pickled file"
   ]
  },
  {
   "cell_type": "code",
   "execution_count": 10,
   "metadata": {
    "collapsed": false
   },
   "outputs": [],
   "source": [
    "fp = open('paec.p','rb')\n",
    "paec = pickle.load(fp)\n",
    "fp.close()"
   ]
  },
  {
   "cell_type": "markdown",
   "metadata": {},
   "source": [
    "Do the checking"
   ]
  },
  {
   "cell_type": "code",
   "execution_count": 11,
   "metadata": {
    "collapsed": false
   },
   "outputs": [],
   "source": [
    "urls,propids = duplications(my_catalog,paec)"
   ]
  },
  {
   "cell_type": "markdown",
   "metadata": {},
   "source": [
    "Show the dictionary"
   ]
  },
  {
   "cell_type": "code",
   "execution_count": 12,
   "metadata": {
    "collapsed": false
   },
   "outputs": [
    {
     "data": {
      "text/plain": [
       "{0: [14073, 10242, 9683], 1: [8249, 12451]}"
      ]
     },
     "execution_count": 12,
     "metadata": {},
     "output_type": "execute_result"
    }
   ],
   "source": [
    "propids"
   ]
  },
  {
   "cell_type": "markdown",
   "metadata": {},
   "source": [
    "Format the catalog for the notebook, hacking the URL fields so they are clickable"
   ]
  },
  {
   "cell_type": "code",
   "execution_count": 17,
   "metadata": {
    "collapsed": false
   },
   "outputs": [
    {
     "data": {
      "text/html": [
       "<Table length=2>\n",
       "<table id=\"table4418722896-789755\" class=\"table-striped table-bordered table-condensed\">\n",
       "<thead><tr><th>idx</th><th>name</th><th>RA</th><th>Dec</th><th>coords</th><th>paec</th></tr></thead>\n",
       "<thead><tr><th></th><th></th><th></th><th></th><th>deg,deg</th><th></th></tr></thead>\n",
       "<tr><td>0</td><td>IC10</td><td>5.07225</td><td>59.30378</td><td>5.07225,59.30378</td><td><a href=http://www.stsci.edu/cgi-bin/get-proposal-info?id=14073&amp;observatory=HST> 14073 </a> <a href=http://www.stsci.edu/cgi-bin/get-proposal-info?id=10242&amp;observatory=HST> 10242 </a> <a href=http://www.stsci.edu/cgi-bin/get-proposal-info?id=9683&amp;observatory=HST> 9683 </a></td></tr>\n",
       "<tr><td>1</td><td>Abell209</td><td>22.95901</td><td>-13.591956</td><td>22.95901,-13.591956</td><td><a href=http://www.stsci.edu/cgi-bin/get-proposal-info?id=8249&amp;observatory=HST> 8249 </a> <a href=http://www.stsci.edu/cgi-bin/get-proposal-info?id=12451&amp;observatory=HST> 12451 </a></td></tr>\n",
       "</table><style>table.dataTable {clear: both; width: auto !important; margin: 0 !important;}\n",
       ".dataTables_info, .dataTables_length, .dataTables_filter, .dataTables_paginate{\n",
       "display: inline-block; margin-right: 1em; }\n",
       ".paginate_button { margin-right: 5px; }\n",
       "</style>\n",
       "<script>\n",
       "require.config({paths: {\n",
       "    datatables: 'https://cdn.datatables.net/1.10.9/js/jquery.dataTables.min'\n",
       "}});\n",
       "require([\"datatables\"], function(){\n",
       "    console.log(\"$('#table4418722896-789755').dataTable()\");\n",
       "    $('#table4418722896-789755').dataTable({\n",
       "        \"order\": [],\n",
       "        \"iDisplayLength\": 50,\n",
       "        \"aLengthMenu\": [[10, 25, 50, 100, 500, 1000, -1], [10, 25, 50, 100, 500, 1000, 'All']],\n",
       "        \"pagingType\": \"full_numbers\"\n",
       "    });\n",
       "});\n",
       "</script>\n"
      ],
      "text/plain": [
       "<IPython.core.display.HTML object>"
      ]
     },
     "execution_count": 17,
     "metadata": {},
     "output_type": "execute_result"
    }
   ],
   "source": [
    "my_catalog['paec']=urls\n",
    "ipy_html = my_catalog.show_in_notebook()\n",
    "ipy_html.data = ipy_html.data.replace('&lt;','<')\n",
    "ipy_html.data = ipy_html.data.replace('&gt;','>')\n",
    "ipy_html"
   ]
  },
  {
   "cell_type": "code",
   "execution_count": null,
   "metadata": {
    "collapsed": true
   },
   "outputs": [],
   "source": []
  }
 ],
 "metadata": {
  "kernelspec": {
   "display_name": "Python 3",
   "language": "python",
   "name": "python3"
  },
  "language_info": {
   "codemirror_mode": {
    "name": "ipython",
    "version": 3
   },
   "file_extension": ".py",
   "mimetype": "text/x-python",
   "name": "python",
   "nbconvert_exporter": "python",
   "pygments_lexer": "ipython3",
   "version": "3.5.2"
  }
 },
 "nbformat": 4,
 "nbformat_minor": 0
}

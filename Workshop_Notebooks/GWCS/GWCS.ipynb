{
 "cells": [
  {
   "cell_type": "markdown",
   "metadata": {
    "slideshow": {
     "slide_type": "slide"
    }
   },
   "source": [
    "# Generalized World Coordinate System \n",
    "##                        (GWCS)\n",
    "\n",
    "\n",
    "#### Nadia Dencheva, Perry Greenfield, Michael Droettboom, Erik Bray\n"
   ]
  },
  {
   "cell_type": "markdown",
   "metadata": {
    "slideshow": {
     "slide_type": "slide"
    }
   },
   "source": [
    "## Why not FITS WCS?"
   ]
  },
  {
   "cell_type": "markdown",
   "metadata": {
    "slideshow": {
     "slide_type": "slide"
    }
   },
   "source": [
    "- Not flexible\n",
    "  - No distortion handling \n",
    "    - distortion paper never approved\n",
    "    - only one correction per axis allowed\n",
    "- There's no way to represent discontiguous WCSs.\n",
    "- It has all the disadvantages of the FITS format, discussed in detail in \n",
    "\n",
    "  Thomas, B., Jenness. T. et al. 2015, “The Future of Astronomical Data Formats I. Learning from FITS”. Astronomy & Computing,   \n",
    "  Volume 12, p. 133-145, arXiv e-print: 1502.00996. https://github.com/timj/aandc-fits"
   ]
  },
  {
   "cell_type": "markdown",
   "metadata": {
    "collapsed": true,
    "slideshow": {
     "slide_type": "slide"
    }
   },
   "source": [
    "## GWCS Goals\n",
    "\n",
    "- ### Flexible\n",
    "  - Combine transforms arbitrarily in an efficient way so that resampling is done as little as possible.\n",
    "  - Execute subtransforms and their inverse.\n",
    "  - Insert transforms in the WCS pipeline or change existing transforms.\n",
    "  - Provide modular tools for managing WCS.\n",
    "- ### Extensible\n",
    "  - It should be easy to write new transforms\n",
    "  "
   ]
  },
  {
   "cell_type": "markdown",
   "metadata": {
    "slideshow": {
     "slide_type": "slide"
    }
   },
   "source": [
    "## GWCS Data Model\n",
    "\n",
    "- A WCS pipeline is a list of steps executed in order\n",
    "  - Each step defines a starting coordinate frame and the transform to the next frame in the pipeline.\n",
    "  - The last step has no transform, only a frame which is the output frame of the total transform. \n",
    "  - As a minimum a WCS object has an input_frame (defaults to \"detector\"), an output_frame and the transform between them.\n",
    "  "
   ]
  },
  {
   "cell_type": "markdown",
   "metadata": {
    "slideshow": {
     "slide_type": "slide"
    }
   },
   "source": [
    "## GWCS Data Model - cont'd\n",
    "\n",
    "- The WCS has a domain attribute which defines the range of acceptable inputs.\n",
    "\n",
    "  The domain is a list of dictionaries - one for each axis \n",
    "\n",
    "  {'lower': 5, 'upper': 2048, 'includes_lower': True, 'includes_upper': False, 'step': 1}\n",
    "  \n",
    "  \n",
    "- The WCS object is written to file using the Advanced Scientific Data Format (ASDF)."
   ]
  },
  {
   "cell_type": "markdown",
   "metadata": {
    "slideshow": {
     "slide_type": "slide"
    }
   },
   "source": [
    "## ASDF\n",
    "\n",
    "- It has a hierarchical metadata structure, made up of basic dynamic data types such as strings, numbers, lists and mappings.\n",
    "- It has human-readable metadata that can be edited directly in place in the file.\n",
    "- ASDF files have the version of the specification they were written to. This makes it possible to evolve the standard while retaining backwards compatibility."
   ]
  },
  {
   "cell_type": "markdown",
   "metadata": {
    "slideshow": {
     "slide_type": "slide"
    }
   },
   "source": [
    "## ASDF - cont'd\n",
    "\n",
    "- It’s built on top of industry standards, such as YAML and JSON Schema\n",
    "- The structure of the data can be automatically validated using schema."
   ]
  },
  {
   "cell_type": "markdown",
   "metadata": {
    "slideshow": {
     "slide_type": "slide"
    }
   },
   "source": [
    "## ASDF and GWCS\n",
    "\n",
    "- The asdf package contains the schemas which define and validate GWCS.\n",
    "\n",
    "http://asdf-standard.readthedocs.io/en/latest/\n",
    "\n",
    "- The asdf package contains also the code which serializes GWCS to disk.\n",
    "\n",
    "http://pyasdf.readthedocs.io/en/latest/"
   ]
  },
  {
   "cell_type": "markdown",
   "metadata": {
    "slideshow": {
     "slide_type": "slide"
    }
   },
   "source": [
    "### Example of serializing an astropy.modeling model to a file."
   ]
  },
  {
   "cell_type": "code",
   "execution_count": 37,
   "metadata": {
    "collapsed": false,
    "slideshow": {
     "slide_type": "subslide"
    }
   },
   "outputs": [],
   "source": [
    "from asdf import AsdfFile\n",
    "import numpy as np\n",
    "from astropy.modeling import models"
   ]
  },
  {
   "cell_type": "code",
   "execution_count": 38,
   "metadata": {
    "collapsed": false,
    "slideshow": {
     "slide_type": "subslide"
    }
   },
   "outputs": [
    {
     "name": "stdout",
     "output_type": "stream",
     "text": [
      "{}\n"
     ]
    }
   ],
   "source": [
    "# Create a 2D rotation model\n",
    "rotation = models.Rotation2D(angle=60)\n",
    "# Open an ASDF file object\n",
    "f = AsdfFile()\n",
    "# Every ASDF file object has an attribute, called \"tree\"\n",
    "# It is a dict like object which store theinformation in YAML format\n",
    "print(f.tree)"
   ]
  },
  {
   "cell_type": "code",
   "execution_count": 39,
   "metadata": {
    "collapsed": false,
    "slideshow": {
     "slide_type": "subslide"
    }
   },
   "outputs": [
    {
     "name": "stdout",
     "output_type": "stream",
     "text": [
      "#ASDF 1.0.0\n",
      "#ASDF_STANDARD 1.0.0\n",
      "%YAML 1.1\n",
      "%TAG ! tag:stsci.edu:asdf/\n",
      "--- !core/asdf-1.0.0\n",
      "asdf_library: !core/software-1.0.0 {author: Space Telescope Science Institute, homepage: 'http://github.com/spacetelescope/asdf',\n",
      "  name: asdf, version: 1.2.1.dev803}\n",
      "model: !transform/rotate2d-1.0.0 {angle: 59.999999999999993}\n",
      "...\n"
     ]
    }
   ],
   "source": [
    "f.tree['model'] = rotation\n",
    "f.write_to('rotation.asdf')\n",
    "!less rotation.asdf"
   ]
  },
  {
   "cell_type": "code",
   "execution_count": 41,
   "metadata": {
    "collapsed": false,
    "slideshow": {
     "slide_type": "subslide"
    }
   },
   "outputs": [
    {
     "name": "stdout",
     "output_type": "stream",
     "text": [
      "#ASDF 1.0.0\n",
      "#ASDF_STANDARD 1.0.0\n",
      "%YAML 1.1\n",
      "%TAG ! tag:stsci.edu:asdf/\n",
      "--- !core/asdf-1.0.0\n",
      "asdf_library: !core/software-1.0.0 {author: Space Telescope Science Institute, homepage: 'http://github.com/spacetelescope/asdf',\n",
      "  name: asdf, version: 1.2.1.dev803}\n",
      "model: !transform/concatenate-1.0.0\n",
      "  forward:\n",
      "  - !transform/polynomial-1.0.0\n",
      "    coefficients: !core/ndarray-1.0.0\n",
      "      data:\n",
      "      - [-0.7066226455316803, -0.15962112697005693, 0.2885405479151532, 0.06570291136911165,\n",
      "        0.5870083143978508]\n",
      "      - [0.7202229263299251, -0.2149976854546453, 0.5790830274303944, -0.04541418853744974,\n",
      "        0.0]\n",
      "      - [1.795653151608788, -1.0805250739869197, -1.127636502410956, 0.0, 0.0]\n",
      "      - [0.18727399611739642, -0.9129957188600568, 0.0, 0.0, 0.0]\n",
      "      - [0.7936869842656057, 0.0, 0.0, 0.0, 0.0]\n",
      "      datatype: float64\n",
      "      shape: [5, 5]\n",
      "  - !transform/polynomial-1.0.0\n",
      "    coefficients: !core/ndarray-1.0.0\n",
      "      data:\n",
      "      - [-0.32360151195423886, 0.031692915407413084, -1.135914977134683, 2.3717966412819753,\n",
      "        1.4443171998656235]\n",
      "      - [2.401268668217737, -1.498647380420725, -2.4254297674660026, -0.028049147888814147,\n",
      "        0.0]\n",
      "      - [-0.2980099102458428, -1.1374015591097928, -0.4668662577196876, 0.0, 0.0]\n",
      "      - [0.1876897161065034, -0.6450008988725332, 0.0, 0.0, 0.0]\n",
      "      - [0.2795984238201387, 0.0, 0.0, 0.0, 0.0]\n",
      "      datatype: float64\n",
      "      shape: [5, 5]\n",
      "...\n"
     ]
    }
   ],
   "source": [
    "polyx = models.Polynomial2D(4)\n",
    "polyx.parameters = np.random.randn(15)\n",
    "polyy = models.Polynomial2D(4)\n",
    "polyy.parameters = np.random.randn(15)\n",
    "m = polyx & polyy\n",
    "f = AsdfFile()\n",
    "f.tree['model'] = m\n",
    "f.write_to('poly.asdf', all_array_storage='inline')\n",
    "!less poly.asdf"
   ]
  },
  {
   "cell_type": "markdown",
   "metadata": {
    "slideshow": {
     "slide_type": "slide"
    }
   },
   "source": [
    "## Astropy and GWCS \n",
    "\n",
    "- astropy.modeling implements the transforms used by GWCS\n",
    "- astropy.coordinates implements the celestial reference frames used by gwcs.coordinate_frames.\n",
    "- astropy.units handles unit conversion."
   ]
  },
  {
   "cell_type": "markdown",
   "metadata": {
    "slideshow": {
     "slide_type": "slide"
    }
   },
   "source": [
    "## JWST and GWCS\n",
    "\n",
    "- The WCS is included in the JWST science files. It is saved in the FITS file as a separate extension with EXTNAME=ASDF.\n",
    "- The WCS includes all transforms from detector to a standard world coordinate system.\n",
    "- The WCS pipelines for different instrument modes include different intermediate coordinate frames.\n",
    "- WCS reference files are in ASDF format."
   ]
  },
  {
   "cell_type": "markdown",
   "metadata": {
    "slideshow": {
     "slide_type": "slide"
    }
   },
   "source": [
    "## JWST and GWCS\n",
    "\n",
    "- The jwst.assign_wcs step (level 2B pipeline) retrieves all reference files from CRDS, constructs a WCS object and saves it in the science file in ASDF format.\n",
    "- The \"forward\" direction is from detector to sky.\n",
    "- The WCS is 0 - based."
   ]
  },
  {
   "cell_type": "markdown",
   "metadata": {
    "slideshow": {
     "slide_type": "slide"
    }
   },
   "source": [
    "## Imaging Example"
   ]
  },
  {
   "cell_type": "code",
   "execution_count": 42,
   "metadata": {
    "collapsed": true,
    "slideshow": {
     "slide_type": "subslide"
    }
   },
   "outputs": [],
   "source": [
    "import numpy as np\n",
    "from astropy.modeling import models\n",
    "from astropy import units as u\n",
    "from astropy import coordinates as coord\n",
    "from asdf import AsdfFile\n",
    "from gwcs import wcs\n",
    "from gwcs import coordinate_frames as cf\n",
    "from gwcs import wcstools\n",
    "from gwcs import utils as gwutils"
   ]
  },
  {
   "cell_type": "code",
   "execution_count": 43,
   "metadata": {
    "collapsed": false,
    "slideshow": {
     "slide_type": "subslide"
    }
   },
   "outputs": [
    {
     "name": "stdout",
     "output_type": "stream",
     "text": [
      "  From   Transform \n",
      "-------- ----------\n",
      "detector distortion\n",
      "    v2v3 v23_to_sky\n",
      "   world       None\n"
     ]
    }
   ],
   "source": [
    "from jwst import datamodels\n",
    "\n",
    "miri_image = \"miri_image_assign_wcs.fits.gz\"\n",
    "\n",
    "image = datamodels.ImageModel(miri_image)\n",
    "print(image.meta.wcs)"
   ]
  },
  {
   "cell_type": "code",
   "execution_count": 44,
   "metadata": {
    "collapsed": false,
    "slideshow": {
     "slide_type": "subslide"
    }
   },
   "outputs": [
    {
     "name": "stdout",
     "output_type": "stream",
     "text": [
      "5.9912555850843034 -72.31590764819482\n"
     ]
    }
   ],
   "source": [
    "# Calling the WCS object like a function evaluates the transforms.\n",
    "ra, dec = image.meta.wcs(500, 600)\n",
    "print(ra, dec)"
   ]
  },
  {
   "cell_type": "code",
   "execution_count": 45,
   "metadata": {
    "collapsed": false,
    "slideshow": {
     "slide_type": "subslide"
    }
   },
   "outputs": [
    {
     "name": "stdout",
     "output_type": "stream",
     "text": [
      "['detector', 'v2v3', 'world']\n"
     ]
    }
   ],
   "source": [
    "# Display the frames available in the WCS pipeline\n",
    "print(image.meta.wcs.available_frames)"
   ]
  },
  {
   "cell_type": "code",
   "execution_count": 46,
   "metadata": {
    "collapsed": false,
    "slideshow": {
     "slide_type": "subslide"
    }
   },
   "outputs": [
    {
     "data": {
      "text/plain": [
       "<Frame2D(name=\"detector\", unit=(Unit(\"pix\"), Unit(\"pix\")), axes_names=('x', 'y'), axes_order=(0, 1))>"
      ]
     },
     "execution_count": 46,
     "metadata": {},
     "output_type": "execute_result"
    }
   ],
   "source": [
    "image.meta.wcs.input_frame"
   ]
  },
  {
   "cell_type": "code",
   "execution_count": 47,
   "metadata": {
    "collapsed": false,
    "slideshow": {
     "slide_type": "subslide"
    }
   },
   "outputs": [
    {
     "data": {
      "text/plain": [
       "<CelestialFrame(name=\"world\", unit=(Unit(\"deg\"), Unit(\"deg\")), axes_names=('lon', 'lat'), axes_order=(0, 1), reference_frame=<ICRS Frame>)>"
      ]
     },
     "execution_count": 47,
     "metadata": {},
     "output_type": "execute_result"
    }
   ],
   "source": [
    "image.meta.wcs.output_frame"
   ]
  },
  {
   "cell_type": "code",
   "execution_count": 48,
   "metadata": {
    "collapsed": false,
    "slideshow": {
     "slide_type": "subslide"
    }
   },
   "outputs": [
    {
     "name": "stdout",
     "output_type": "stream",
     "text": [
      "<SkyCoord (ICRS): (ra, dec) in deg\n",
      "    (6.05510365, -72.30186157)>\n"
     ]
    }
   ],
   "source": [
    "# Because the output_frame is a CoordinateFrame object we can get as output\n",
    "# coordinates.SkyCoord objects.\n",
    "skycoord = image.meta.wcs(1, 2, output=\"numericals_plus\")\n",
    "print(skycoord)"
   ]
  },
  {
   "cell_type": "code",
   "execution_count": 49,
   "metadata": {
    "collapsed": false,
    "slideshow": {
     "slide_type": "subslide"
    }
   },
   "outputs": [
    {
     "name": "stdout",
     "output_type": "stream",
     "text": [
      "<SkyCoord (Galactic): (l, b) in deg\n",
      "    (305.83512645, -44.67264661)>\n"
     ]
    }
   ],
   "source": [
    "print(skycoord.transform_to('galactic'))"
   ]
  },
  {
   "cell_type": "code",
   "execution_count": 50,
   "metadata": {
    "collapsed": false,
    "slideshow": {
     "slide_type": "subslide"
    }
   },
   "outputs": [
    {
     "name": "stdout",
     "output_type": "stream",
     "text": [
      "<SkyCoord (ICRS): (ra, dec) in deg\n",
      "    (5.99125559, -72.31590765)>\n"
     ]
    }
   ],
   "source": [
    "print(image.meta.wcs.output_frame.coordinates(ra, dec))"
   ]
  },
  {
   "cell_type": "markdown",
   "metadata": {
    "slideshow": {
     "slide_type": "subslide"
    }
   },
   "source": [
    "### Methods for managing the transforms"
   ]
  },
  {
   "cell_type": "code",
   "execution_count": 51,
   "metadata": {
    "collapsed": false,
    "slideshow": {
     "slide_type": "fragment"
    }
   },
   "outputs": [
    {
     "name": "stdout",
     "output_type": "stream",
     "text": [
      "['detector', 'v2v3', 'world']\n"
     ]
    }
   ],
   "source": [
    "# It is possible to retrieve the transform between any\n",
    "# two coordinate frames in the WCS pipeline\n",
    "print(image.meta.wcs.available_frames)"
   ]
  },
  {
   "cell_type": "code",
   "execution_count": 52,
   "metadata": {
    "collapsed": false,
    "slideshow": {
     "slide_type": "fragment"
    }
   },
   "outputs": [
    {
     "name": "stdout",
     "output_type": "stream",
     "text": [
      "-0.00890422235940378 -0.10598133522123322\n"
     ]
    }
   ],
   "source": [
    "det2v23 = image.meta.wcs.get_transform(\"detector\", \"v2v3\")\n",
    "v2, v3 = det2v23(1, 2)\n",
    "print(v2, v3)"
   ]
  },
  {
   "cell_type": "code",
   "execution_count": 53,
   "metadata": {
    "collapsed": false,
    "slideshow": {
     "slide_type": "subslide"
    }
   },
   "outputs": [
    {
     "name": "stdout",
     "output_type": "stream",
     "text": [
      "(<Quantity -0.00890422235940378 deg>, <Quantity -0.10598133522123322 deg>)\n"
     ]
    }
   ],
   "source": [
    "# And we can see what the units are in the V2V3 frame\n",
    "print(image.meta.wcs.v2v3.coordinates(v2, v3))"
   ]
  },
  {
   "cell_type": "code",
   "execution_count": 54,
   "metadata": {
    "collapsed": false,
    "slideshow": {
     "slide_type": "subslide"
    }
   },
   "outputs": [
    {
     "name": "stdout",
     "output_type": "stream",
     "text": [
      "5.9912555850843034 -72.31590764819482\n",
      "-161.73542830772178 -31.74598793388439\n"
     ]
    }
   ],
   "source": [
    "# It is also possible to replace a transform \n",
    "# Create a transforms which shifts in X and y\n",
    "new_det2v23 = models.Shift(3) & models.Shift(12)\n",
    "# Replace the transform between \"detector\" and \"v2v3\"\n",
    "image.meta.wcs.set_transform(\"detector\", \"v2v3\", new_det2v23)\n",
    "new_ra, new_dec = image.meta.wcs(500, 600)\n",
    "print(ra, dec)\n",
    "print(new_ra, new_dec)"
   ]
  },
  {
   "cell_type": "code",
   "execution_count": 55,
   "metadata": {
    "collapsed": false,
    "slideshow": {
     "slide_type": "subslide"
    }
   },
   "outputs": [
    {
     "data": {
      "text/plain": [
       "(-175.6556532023201, 25.961290745009883)"
      ]
     },
     "execution_count": 55,
     "metadata": {},
     "output_type": "execute_result"
    }
   ],
   "source": [
    "# We can insert a transform in the pipeline just before or after a frame\n",
    "rotation = models.EulerAngleRotation(.1, 12, 180, axes_order=\"xyz\")\n",
    "image.meta.wcs.insert_transform(\"v2v3\", rotation)\n",
    "image.meta.wcs.get_transform(\"detector\", \"v2v3\")(1, 2)"
   ]
  },
  {
   "cell_type": "markdown",
   "metadata": {
    "slideshow": {
     "slide_type": "slide"
    }
   },
   "source": [
    "## Discontiguous transforms\n",
    "\n",
    "The WCS transforms for several JWST observing modes are different over different regions of the detector. These include the IFUs, the NIRSpec MOS and fixed slits, the NIRISS SOSS and the WFSS."
   ]
  },
  {
   "cell_type": "markdown",
   "metadata": {
    "slideshow": {
     "slide_type": "slide"
    }
   },
   "source": [
    "## Discontiguous transforms - cont'd\n",
    "\n",
    "GWCS manages this by packaging the transforms in a single WCS object.\n",
    "\n",
    "Individual WCss are accessed using additional inputs. These non-coordinate inputs depend on the specific mode. \n",
    "\n",
    "For the NIRSpec fixed slits the input is the slit name, for the IFU - the slice number, for the MOS - the sltlet_id, for NIRISS SOSS - the spectral order."
   ]
  },
  {
   "cell_type": "markdown",
   "metadata": {
    "slideshow": {
     "slide_type": "slide"
    }
   },
   "source": [
    "### NIRSpec Fixed Slit Example"
   ]
  },
  {
   "cell_type": "code",
   "execution_count": 57,
   "metadata": {
    "collapsed": false,
    "slideshow": {
     "slide_type": "fragment"
    }
   },
   "outputs": [
    {
     "name": "stdout",
     "output_type": "stream",
     "text": [
      "Slit(name='S200A1', shutter_id=0, xcen=0, ycen=0, ymin=-0.5, ymax=0.5, quadrant=5, source_id=0, nshutters=0, source_name='', source_alias='', catalog_id='', stellarity=0.0, source_xpos=0.0, source_ypos=0.0)\n"
     ]
    }
   ],
   "source": [
    "\n",
    "nrs_fs = \"nrs1_assign_wcs.fits.gz\"\n",
    "nrs = datamodels.ImageModel(nrs_fs)\n",
    "from jwst.assign_wcs import nirspec\n",
    "slits = nirspec.get_open_slits(nrs)\n",
    "print(slits[0])"
   ]
  },
  {
   "cell_type": "code",
   "execution_count": 58,
   "metadata": {
    "collapsed": false,
    "slideshow": {
     "slide_type": "subslide"
    }
   },
   "outputs": [],
   "source": [
    "s0 = nirspec.nrs_wcs_set_input(nrs, \"S200A1\")"
   ]
  },
  {
   "cell_type": "code",
   "execution_count": 60,
   "metadata": {
    "collapsed": false,
    "slideshow": {
     "slide_type": "fragment"
    }
   },
   "outputs": [
    {
     "data": {
      "text/plain": [
       "[{'lower': 0, 'upper': 1641}, {'lower': 169, 'upper': 231}]"
      ]
     },
     "execution_count": 60,
     "metadata": {},
     "output_type": "execute_result"
    }
   ],
   "source": [
    "s0.domain"
   ]
  },
  {
   "cell_type": "code",
   "execution_count": 62,
   "metadata": {
    "collapsed": false,
    "slideshow": {
     "slide_type": "fragment"
    }
   },
   "outputs": [
    {
     "data": {
      "text/plain": [
       "['detector', 'sca', 'gwa', 'slit_frame', 'msa_frame', 'oteip', 'v2v3', 'world']"
      ]
     },
     "execution_count": 62,
     "metadata": {},
     "output_type": "execute_result"
    }
   ],
   "source": [
    "s0.available_frames"
   ]
  },
  {
   "cell_type": "code",
   "execution_count": 63,
   "metadata": {
    "collapsed": false,
    "slideshow": {
     "slide_type": "fragment"
    }
   },
   "outputs": [
    {
     "data": {
      "text/plain": [
       "[<CelestialFrame(name=\"sky\", unit=(Unit(\"deg\"), Unit(\"deg\")), axes_names=('lon', 'lat'), axes_order=(0, 1), reference_frame=<ICRS Frame>)>, <SpectralFrame(name=\"spectral\", unit=(Unit(\"um\"),), axes_names=('wavelength',), axes_order=(2,))>]"
      ]
     },
     "execution_count": 63,
     "metadata": {},
     "output_type": "execute_result"
    }
   ],
   "source": [
    "s0.output_frame"
   ]
  },
  {
   "cell_type": "code",
   "execution_count": 65,
   "metadata": {
    "collapsed": false,
    "slideshow": {
     "slide_type": "subslide"
    }
   },
   "outputs": [],
   "source": [
    "from gwcs import wcstools\n",
    "\n",
    "x, y = wcstools.grid_from_domain(s0.domain)\n"
   ]
  },
  {
   "cell_type": "code",
   "execution_count": 66,
   "metadata": {
    "collapsed": false,
    "slideshow": {
     "slide_type": "fragment"
    }
   },
   "outputs": [
    {
     "name": "stderr",
     "output_type": "stream",
     "text": [
      "C:\\Users\\Nadia\\Anaconda3\\lib\\site-packages\\jwst-0.7.0rc2.dev67-py3.5.egg\\jwst\\transforms\\models.py:694: RuntimeWarning: invalid value encountered in less\n",
      "  cond_result = self.conditions[self.condition](x, self.compareto)\n"
     ]
    }
   ],
   "source": [
    "ra, dec, lam = s0(x, y)"
   ]
  },
  {
   "cell_type": "code",
   "execution_count": 67,
   "metadata": {
    "collapsed": false
   },
   "outputs": [
    {
     "name": "stdout",
     "output_type": "stream",
     "text": [
      "[<SkyCoord (ICRS): (ra, dec) in deg\n",
      "    (5.67032776, -72.31292917)>, <Quantity 1.0484778510369612 um>]\n"
     ]
    }
   ],
   "source": [
    "res = s0(1000, 200, output=\"numericals_plus\")\n",
    "print(res)"
   ]
  },
  {
   "cell_type": "code",
   "execution_count": 68,
   "metadata": {
    "collapsed": false,
    "slideshow": {
     "slide_type": "subslide"
    }
   },
   "outputs": [
    {
     "data": {
      "text/plain": [
       "<matplotlib.colorbar.Colorbar at 0x17a98855198>"
      ]
     },
     "execution_count": 68,
     "metadata": {},
     "output_type": "execute_result"
    },
    {
     "data": {
      "image/png": "[encoded data removed]",
      "text/plain": [
       "<matplotlib.figure.Figure at 0x17a911dee80>"
      ]
     },
     "metadata": {},
     "output_type": "display_data"
    }
   ],
   "source": [
    "%matplotlib inline\n",
    "from matplotlib import pyplot as plt\n",
    "plt.imshow(lam, aspect='auto')\n",
    "plt.title(\"lambda, microns\")\n",
    "plt.colorbar()"
   ]
  },
  {
   "cell_type": "code",
   "execution_count": null,
   "metadata": {
    "collapsed": true
   },
   "outputs": [],
   "source": []
  }
 ],
 "metadata": {
  "anaconda-cloud": {},
  "celltoolbar": "Slideshow",
  "kernelspec": {
   "display_name": "Python [conda root]",
   "language": "python",
   "name": "conda-root-py"
  },
  "language_info": {
   "codemirror_mode": {
    "name": "ipython",
    "version": 3
   },
   "file_extension": ".py",
   "mimetype": "text/x-python",
   "name": "python",
   "nbconvert_exporter": "python",
   "pygments_lexer": "ipython3",
   "version": "3.5.2"
  }
 },
 "nbformat": 4,
 "nbformat_minor": 1
}
